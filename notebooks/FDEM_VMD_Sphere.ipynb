{
 "cells": [
  {
   "cell_type": "code",
   "execution_count": 1,
   "metadata": {},
   "outputs": [
    {
     "name": "stdout",
     "output_type": "stream",
     "text": [
      "Populating the interactive namespace from numpy and matplotlib\n"
     ]
    }
   ],
   "source": [
    "%pylab inline\n",
    "from IPython.display import display\n",
    "from em_examples.HarmonicVMDCylWidget import HarmonicVMDCylWidget\n",
    "vmd = HarmonicVMDCylWidget()"
   ]
  },
  {
   "cell_type": "markdown",
   "metadata": {},
   "source": [
    "# Title:  Vertical Electric Dipole in a Layered Earth (Frequency domain)"
   ]
  },
  {
   "cell_type": "markdown",
   "metadata": {},
   "source": [
    "# Purpose\n",
    "\n",
    "Harmonic Vertical Magnetic Dipole (VMD) is a magnetic source, which excites the earth with EM induction. Magnetic source is sort of an artifical concept, and a small enough circular loop can be an equivalent. Different from homogenous earth, we often assume the earth is layerd indicating each layer has different electrical properties. For instance, often Tx is deployed in the air (e.g. airborne EM and small-loop EM) having zero conductivity (i.e. no conduction currents). This drastic contrast of electrical properties changes reflection and refraction of EM waves effectively distorts EM fields in the earth. Here, by using an app, a) we understand how an inductive source (circular loop) excite the earth, b) explore the impact of conductivity constrast in layers to both EM fields in the earth, and also measured  data at a receiver location. "
   ]
  },
  {
   "cell_type": "markdown",
   "metadata": {},
   "source": [
    "# Set up\n",
    "\n",
    "We consider a frequency domain EM method, which injects sinusoidal current. For this system, EM field is complex-valued hence it has both real and imaginary parts, and depending upon the transmission frequency behavior of EM fields from the earth vary. Here, we assume structure of the earth is layered, and we limit our attention to four layeres. Below Figure shows our setup, and each layer can have different electrical conductivity. Susceptibility of the 0-th layer is fixed to zero (i.e. $\\mu=\\mu_0$), but susceptibility of 1-3 layers ($\\chi$) can vary. Note that among 1-3 layers susceptiblity values are same, effectively magenetic permeability, $\\mu = \\mu_0(1+\\chi)$ values are same as well. There are two apps provided: a) Fields app and b) Data app. \n",
    "\n",
    "<img src=\"https://github.com/geoscixyz/em_apps/blob/master/images/LayeredEarth.png?raw=true\"></img>\n"
   ]
  },
  {
   "cell_type": "markdown",
   "metadata": {},
   "source": [
    "# Questions\n",
    "\n",
    "- Q1: Run below Field app, and change \"Complex Number\" from \"Re\" (real\" to \"Im\"). Observe the difference between Real and Imaginary part of B-field. Explain your observation. \n",
    "\n",
    "\n",
    "- Q2: Now change parameters: \"Field\" to \"E\", \"AmpDir\" to \"None\", \"Comp\" to \"y\". Then alter Complex number from \"Real\" to \"Imag\". Did you recognize the difference between real and imaginary part of $E_y$? Can you explain the difference between them?\n",
    "\n",
    "\n",
    "- Q3: Change the \"Field\" to \"J\". What did you observe? Assuming the type of the measured data is $B_z$, what can you infer from your observation of \"current density?\n",
    "\n",
    "\n",
    "- Q4: Run data app, and observe the measured $B_z$ component at Rx location (marked as red dot in the Field app). Real part almost does not change as a function of frequency. a) Explain the reason why. \n",
    "\n",
    "\n",
    "- Q5: Then change \"Field\" to \"Bsec\" indicating secondary magnetic flux density. What did you observe? Often for inductive source EM surveys such as airborne EM and small-loop EM this secondary magnetic flux density is considered as our <strong> observed data </strong>, check EM geosci and solidify this concept of primary removal. "
   ]
  },
  {
   "cell_type": "markdown",
   "metadata": {},
   "source": [
    "# Fields app\n",
    "\n",
    "Here we explore EM fields due to VMD source. We let an arbitrary EM fields as $\\mathbf{F}$, then this will be a function of various parameters given below. By using this <strong>Field app</strong>, you can change a parameter such as frequency, then can observe changes of EM fields immediately. Hence, this tool will allow you to explore how EM fields changes upon your changes in parameters. \n",
    "\n",
    "## Parameters:\n",
    "\n",
    "- Field: Type of EM fields (\"E\": electric field, \"B\": total magnetic flux density, \"Bsec\": secondary magnetic flux density, \"J\": current density)\n",
    "- AmpDir: Type of the vectoral EM fields \n",
    "\n",
    "    None: $F_x$ or $F_y$ or $F_z$\n",
    "        \n",
    "    Dir:  Vectoral EM fields (either Real or Imaginary)\n",
    "    \n",
    "- Comp.: Direction of $\\mathbf{F}$ at Rx locations        \n",
    "- ComplexNumber: Type of complex data (\"Re\", \"Im\", \"Amp\", \"Phase\")    \n",
    "- $f$ (Hz): Transmitting frequency\n",
    "- $\\sigma_0$: Conductivity above z=0m (leave as 1e-8)\n",
    "- $\\sigma_b$: Background conductivity below z=0m\n",
    "- $\\sigma_1$: Conductivity of the layer\n",
    "- $\\sigma_2$: Conductivity of the sphere\n",
    "- $\\chi$: Susceptibility of 1-3 layers\n",
    "- $d_1$: Depth to the top of the layer\n",
    "- $h_1$: Thickness of the layer\n",
    "- $d_2$: Depth to the top of the sphere\n",
    "- $R$: Radius of the sphere\n",
    "- Scale: Scale of values (\"log\" or \"linear\")\n",
    "- $\\Delta x$ (m): Horizontal separation distance between the transmitter and receiver\n",
    "- $\\Delta z$ (m): Height of the transmitter and receiver above the Earth's surface"
   ]
  },
  {
   "cell_type": "code",
   "execution_count": 2,
   "metadata": {},
   "outputs": [
    {
     "data": {
      "application/vnd.jupyter.widget-view+json": {
       "model_id": "d507624da94046fa9080ba93cb087756",
       "version_major": 2,
       "version_minor": 0
      },
      "text/plain": [
       "A Jupyter Widget"
      ]
     },
     "metadata": {},
     "output_type": "display_data"
    }
   ],
   "source": [
    "Q1 = vmd.InteractivePlane_Sphere()\n",
    "display(Q1)"
   ]
  },
  {
   "cell_type": "markdown",
   "metadata": {},
   "source": [
    "# Data app\n",
    "\n",
    "In this app, will show the meausred data upon the parameters that you have used in the previous app. Note that if you want to see changes in the data due to updates of the parameters (such as $\\sigma$ and $\\chi$), then <strong>\"you should run the previous Field app first\"</strong>. \n",
    "\n",
    "## Parameters:\n",
    "\n",
    "- Field: Type of EM fields (\"E\": electric field, \"B\": total magnetic flux density, \"Bsec\": secondary magnetic flux density)\n",
    "- Comp.: Direction of EM field at Rx locations        \n",
    "- Scale: Scale of values (\"log\" or \"linear\")"
   ]
  },
  {
   "cell_type": "code",
   "execution_count": 3,
   "metadata": {},
   "outputs": [
    {
     "data": {
      "application/vnd.jupyter.widget-view+json": {
       "model_id": "bc082ddc28f34701840819948f93e15d",
       "version_major": 2,
       "version_minor": 0
      },
      "text/plain": [
       "A Jupyter Widget"
      ]
     },
     "metadata": {},
     "output_type": "display_data"
    }
   ],
   "source": [
    "Q2 = vmd.InteractiveData_Sphere()\n",
    "display(Q2)"
   ]
  },
  {
   "cell_type": "markdown",
   "metadata": {},
   "source": [
    "# Explore\n",
    "\n",
    "EM fields will be depenent upon a number of parameters, using a simple half-space model ($\\sigma_1=\\sigma_2=\\sigma_3$) explore how EM fields and data changes upon below four parameters. \n",
    "\n",
    "- E1: Effects of frequency?\n",
    "\n",
    "\n",
    "- E2: Effects of Tx height?\n",
    "\n",
    "\n",
    "- E3: Effects of Conductivity?\n",
    "\n",
    "\n",
    "- E4: Effects of Susceptibility?\n"
   ]
  },
  {
   "cell_type": "markdown",
   "metadata": {},
   "source": []
  },
  {
   "cell_type": "code",
   "execution_count": null,
   "metadata": {
    "collapsed": true
   },
   "outputs": [],
   "source": []
  }
 ],
 "metadata": {
  "anaconda-cloud": {},
  "kernelspec": {
   "display_name": "Python 3",
   "language": "python",
   "name": "python3"
  },
  "language_info": {
   "codemirror_mode": {
    "name": "ipython",
    "version": 3
   },
   "file_extension": ".py",
   "mimetype": "text/x-python",
   "name": "python",
   "nbconvert_exporter": "python",
   "pygments_lexer": "ipython3",
   "version": "3.6.3"
  },
  "widgets": {
   "state": {
    "c0dd4dbce2ff4d0cacf7363e6fdfed13": {
     "views": [
      {
       "cell_index": 6
      }
     ]
    },
    "d6ee822b25404d33979ba6ec5f19963c": {
     "views": [
      {
       "cell_index": 8
      }
     ]
    }
   },
   "version": "1.2.0"
  }
 },
 "nbformat": 4,
 "nbformat_minor": 1
}
