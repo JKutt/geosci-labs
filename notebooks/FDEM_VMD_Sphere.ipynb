{
 "cells": [
  {
   "cell_type": "markdown",
   "metadata": {},
   "source": [
    "# Vertical Magnetic Dipole over a Sphere (frequency domain)"
   ]
  },
  {
   "cell_type": "code",
   "execution_count": 1,
   "metadata": {},
   "outputs": [
    {
     "name": "stdout",
     "output_type": "stream",
     "text": [
      "Populating the interactive namespace from numpy and matplotlib\n"
     ]
    }
   ],
   "source": [
    "%pylab inline\n",
    "from IPython.display import display\n",
    "from em_examples.HarmonicVMDCylWidget import HarmonicVMDCylWidget\n",
    "vmd = HarmonicVMDCylWidget()"
   ]
  },
  {
   "cell_type": "markdown",
   "metadata": {},
   "source": [
    "# Purpose and background theory\n",
    "\n",
    "Here, we show fields and fluxes that result from placing a transient vertical magnetic dipole (VMD) source over an Earth model containing a spherical structure and an overburden layer. \n",
    "\n",
    "There are [two commonly used models](https://em.geosci.xyz/content/maxwell1_fundamentals/dipole_sources_in_homogeneous_media/magnetic_dipole_definition/index.html) for describing a harmonic VMD source: 1) as an infinitessimally small bar magnet that experiences a harmonic magnetization in the vertical direction, and 2) as an infinitessimally small horizontal loop of wire carrying a harmonic current. In either case, the harmonic VMD creates a primary harmonic magnetic field in its viscinity.\n",
    "\n",
    "For geophysical applications, we use small current loops to approximate harmonic VMD sources. These EM sources may be placed on the Earth's surface or flown through the air (airborne surveys). Because the source's primary field is harmonic, it induces anomalous currents in the Earth. The distribution and strength of the induced currents depends on the frequency of the harmonic VMD source and the subsurface conductivity distribution. The induced current ultimately produce secondary magnetic fields which can be measured by a receiver.\n",
    "\n",
    "In this app, we explore the following:\n",
    "\n",
    "- How does the frequency impact the fields and currents produced by the harmonic VMD source?\n",
    "- For our geological model, how does changing the dimensions and conductivity of the layer and sphere impact the fields and currents produced by the harmonic VMD source?\n",
    "- How does the frequency impact secondary fields measured above the Earth's surface?\n",
    "- For our geological model, how does changing the dimensions and conductivity of the layer and sphere impact secondary fields measured above the Earth's surface?"
   ]
  },
  {
   "cell_type": "markdown",
   "metadata": {},
   "source": [
    "# Set up\n",
    "\n",
    "The geological scenario being modeled is shown in the figure below. Here, the Earth is comprised of a spherical structure and overburden layer within a homogeneous background. Each of the three geological units has its own conductivity ($\\sigma$). However, a constant magnetic susceptibility ($\\chi$) is used for units; where $\\mu_0$ is the magnetic permeability of free space and $\\mu = \\mu_0 (1 +\\chi)$. The depth to the layer is given by $d_1$ and $h$.\n",
    "\n",
    "In this case, a harmonic VMD source (*Tx*) is used to excite the Earth, and the vertical component of the Earth's EM response (secondary magnetic field) is measured by a receiver (*Rx*). In practice, the transmitter and receiver may be placed near the Earth's surface or in the air. The source may also operate at a variety of frequencies. Because we are operating in the frequency domain, fields and currents within the region may have both real and imaginary components.\n",
    "\n",
    "To understand the fields and currents resulting from a harmonic VMD source over a layered Earth we have two apps:\n",
    "\n",
    "- **Fields app:** Models the fields and currents everywhere at a particular frequency\n",
    "- **Data app:** Models the secondary magnetic field observed at the receiver as a function of frequency\n",
    "\n",
    "\n",
    "<img src=\"https://github.com/geoscixyz/em_apps/blob/master/images/LayeredEarth.png?raw=true\"></img>\n"
   ]
  },
  {
   "cell_type": "markdown",
   "metadata": {},
   "source": [
    "# Questions\n",
    "\n",
    "- Q1: Run below Field app, and change \"Complex Number\" from \"Re\" (real\" to \"Im\"). Observe the difference between Real and Imaginary part of B-field. Explain your observation. \n",
    "\n",
    "\n",
    "- Q2: Now change parameters: \"Field\" to \"E\", \"AmpDir\" to \"None\", \"Comp\" to \"y\". Then alter Complex number from \"Real\" to \"Imag\". Did you recognize the difference between real and imaginary part of $E_y$? Can you explain the difference between them?\n",
    "\n",
    "\n",
    "- Q3: Change the \"Field\" to \"J\". What did you observe? Assuming the type of the measured data is $B_z$, what can you infer from your observation of \"current density?\n",
    "\n",
    "\n",
    "- Q4: Run data app, and observe the measured $B_z$ component at Rx location (marked as red dot in the Field app). Real part almost does not change as a function of frequency. a) Explain the reason why. \n",
    "\n",
    "\n",
    "- Q5: Then change \"Field\" to \"Bsec\" indicating secondary magnetic flux density. What did you observe? Often for inductive source EM surveys such as airborne EM and small-loop EM this secondary magnetic flux density is considered as our <strong> observed data </strong>, check EM geosci and solidify this concept of primary removal. "
   ]
  },
  {
   "cell_type": "markdown",
   "metadata": {},
   "source": [
    "# Fields app\n",
    "\n",
    "Here we explore EM fields due to VMD source. We let an arbitrary EM fields as $\\mathbf{F}$, then this will be a function of various parameters given below. By using this <strong>Field app</strong>, you can change a parameter such as frequency, then can observe changes of EM fields immediately. Hence, this tool will allow you to explore how EM fields changes upon your changes in parameters. \n",
    "\n",
    "## Parameters:\n",
    "\n",
    "- Field: Type of EM fields (\"E\": electric field, \"B\": total magnetic flux density, \"Bsec\": secondary magnetic flux density, \"J\": current density)\n",
    "- AmpDir: Type of the vectoral EM fields \n",
    "\n",
    "    None: $F_x$ or $F_y$ or $F_z$\n",
    "        \n",
    "    Dir:  Vectoral EM fields (either Real or Imaginary)\n",
    "    \n",
    "- Comp.: Direction of $\\mathbf{F}$ at Rx locations        \n",
    "- ComplexNumber: Type of complex data (\"Re\", \"Im\", \"Amp\", \"Phase\")    \n",
    "- $f$ (Hz): Transmitting frequency\n",
    "- $\\sigma_0$: Conductivity above z=0m (leave as 1e-8)\n",
    "- $\\sigma_b$: Background conductivity below z=0m\n",
    "- $\\sigma_1$: Conductivity of the layer\n",
    "- $\\sigma_2$: Conductivity of the sphere\n",
    "- $\\chi$: Susceptibility of 1-3 layers\n",
    "- $d_1$: Depth to the top of the layer\n",
    "- $h_1$: Thickness of the layer\n",
    "- $d_2$: Depth to the top of the sphere\n",
    "- $R$: Radius of the sphere\n",
    "- Scale: Scale of values (\"log\" or \"linear\")\n",
    "- $\\Delta x$ (m): Horizontal separation distance between the transmitter and receiver\n",
    "- $\\Delta z$ (m): Height of the transmitter and receiver above the Earth's surface"
   ]
  },
  {
   "cell_type": "code",
   "execution_count": 2,
   "metadata": {},
   "outputs": [
    {
     "data": {
      "application/vnd.jupyter.widget-view+json": {
       "model_id": "0dc0ef04c16349b8acfe0671bcf905e3",
       "version_major": 2,
       "version_minor": 0
      },
      "text/plain": [
       "A Jupyter Widget"
      ]
     },
     "metadata": {},
     "output_type": "display_data"
    }
   ],
   "source": [
    "Q1 = vmd.InteractivePlane_Sphere()\n",
    "display(Q1)"
   ]
  },
  {
   "cell_type": "code",
   "execution_count": 17,
   "metadata": {},
   "outputs": [
    {
     "data": {
      "text/plain": [
       "1764"
      ]
     },
     "execution_count": 17,
     "metadata": {},
     "output_type": "execute_result"
    }
   ],
   "source": [
    "from SimPEG import Maps\n",
    "import numpy as np\n",
    "active = vmd.mesh2D.vectorCCy < vmd.z0\n",
    "np.size(vmd.mesh2D.gridCC[:,1])\n",
    "#vmd.mesh2D.nC\n",
    "\n",
    "#mapping2D = Maps.InjectActiveCells(vmd.mesh2D, active, vmd.sig0, nC=vmd.mesh2D.nC)"
   ]
  },
  {
   "cell_type": "markdown",
   "metadata": {},
   "source": [
    "# Data app\n",
    "\n",
    "In this app, will show the meausred data upon the parameters that you have used in the previous app. Note that if you want to see changes in the data due to updates of the parameters (such as $\\sigma$ and $\\chi$), then <strong>\"you should run the previous Field app first\"</strong>. \n",
    "\n",
    "## Parameters:\n",
    "\n",
    "- Field: Type of EM fields (\"E\": electric field, \"B\": total magnetic flux density, \"Bsec\": secondary magnetic flux density)\n",
    "- Comp.: Direction of EM field at Rx locations        \n",
    "- Scale: Scale of values (\"log\" or \"linear\")"
   ]
  },
  {
   "cell_type": "code",
   "execution_count": 4,
   "metadata": {},
   "outputs": [
    {
     "data": {
      "application/vnd.jupyter.widget-view+json": {
       "model_id": "6a2b921d4f5b4560a86d4345170d9de2",
       "version_major": 2,
       "version_minor": 0
      },
      "text/plain": [
       "A Jupyter Widget"
      ]
     },
     "metadata": {},
     "output_type": "display_data"
    }
   ],
   "source": [
    "Q2 = vmd.InteractiveData_Sphere()\n",
    "display(Q2)"
   ]
  },
  {
   "cell_type": "markdown",
   "metadata": {},
   "source": [
    "# Explore\n",
    "\n",
    "EM fields will be depenent upon a number of parameters, using a simple half-space model ($\\sigma_1=\\sigma_2=\\sigma_3$) explore how EM fields and data changes upon below four parameters. \n",
    "\n",
    "- E1: Effects of frequency?\n",
    "\n",
    "\n",
    "- E2: Effects of Tx height?\n",
    "\n",
    "\n",
    "- E3: Effects of Conductivity?\n",
    "\n",
    "\n",
    "- E4: Effects of Susceptibility?\n"
   ]
  },
  {
   "cell_type": "markdown",
   "metadata": {},
   "source": []
  },
  {
   "cell_type": "code",
   "execution_count": null,
   "metadata": {
    "collapsed": true
   },
   "outputs": [],
   "source": []
  }
 ],
 "metadata": {
  "anaconda-cloud": {},
  "kernelspec": {
   "display_name": "Python 3",
   "language": "python",
   "name": "python3"
  },
  "language_info": {
   "codemirror_mode": {
    "name": "ipython",
    "version": 3
   },
   "file_extension": ".py",
   "mimetype": "text/x-python",
   "name": "python",
   "nbconvert_exporter": "python",
   "pygments_lexer": "ipython3",
   "version": "3.6.3"
  },
  "widgets": {
   "state": {
    "c0dd4dbce2ff4d0cacf7363e6fdfed13": {
     "views": [
      {
       "cell_index": 6
      }
     ]
    },
    "d6ee822b25404d33979ba6ec5f19963c": {
     "views": [
      {
       "cell_index": 8
      }
     ]
    }
   },
   "version": "1.2.0"
  }
 },
 "nbformat": 4,
 "nbformat_minor": 1
}
