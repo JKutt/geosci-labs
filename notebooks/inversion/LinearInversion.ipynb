{
 "cells": [
  {
   "cell_type": "code",
   "execution_count": 1,
   "metadata": {
    "iooxa": {
     "id": {
      "block": "8hoXeANtrV3ZUHZuBUa8",
      "project": "VNMrkxzChhdveZyf6lmb",
      "version": 1
     },
     "outputId": {
      "block": "c3ct5bmxGb0kJAJA80y1",
      "project": "VNMrkxzChhdveZyf6lmb",
      "version": 1
     }
    }
   },
   "outputs": [],
   "source": [
    "from geoscilabs.inversion.LinearInversionDirect import LinearInversionDirectApp\n",
    "from ipywidgets import interact, FloatSlider, ToggleButtons, IntSlider, FloatText, IntText"
   ]
  },
  {
   "cell_type": "code",
   "execution_count": 2,
   "metadata": {
    "iooxa": {
     "id": {
      "block": "XoBdBeGBCevcAMVqqZtM",
      "project": "VNMrkxzChhdveZyf6lmb",
      "version": 1
     },
     "outputId": {
      "block": "nzHSDMZI4foQGe88I1D5",
      "project": "VNMrkxzChhdveZyf6lmb",
      "version": 1
     }
    }
   },
   "outputs": [],
   "source": [
    "app = LinearInversionDirectApp()"
   ]
  },
  {
   "cell_type": "markdown",
   "metadata": {
    "iooxa": {
     "id": {
      "block": "GAKaomYwcnkDpl2fpbAI",
      "project": "VNMrkxzChhdveZyf6lmb",
      "version": 1
     }
    }
   },
   "source": [
    "# Linear Inversion App\n",
    "\n",
    "This app is based upon the inversion tutorial: \"INVERSION FOR APPLIED GEOPHYSICS\" by Oldenburg and Li (2005).\n",
    "\n",
    "Douglas W. Oldenburg and Yaoguo Li (2005) 5. Inversion for Applied Geophysics: A Tutorial. Near-Surface Geophysics: pp. 89-150.\n",
    "eISBN: 978-1-56080-171-9 \n",
    "print ISBN: 978-1-56080-130-6 \n",
    "https://doi.org/10.1190/1.9781560801719.ch5 \n"
   ]
  },
  {
   "cell_type": "markdown",
   "metadata": {
    "iooxa": {
     "id": {
      "block": "wzGxtmJjFucP0mYtZzVD",
      "project": "VNMrkxzChhdveZyf6lmb",
      "version": 2
     }
    }
   },
   "source": [
    "## Purpose\n",
    "\n",
    "By using a simple decaying and oscillating kernel function, which emulates the physics of electromagnetic (EM) survey, we understand basic concepts of inverting data. Three items that we are going to explore are:\n",
    "\n",
    "- Step1: Create a model ($\\mathbf{m}$)\n",
    "- Step2: Generate a sensitivity kernel (or matrix), $\\mathbf{G}$\n",
    "- Step3: Simulate data ($\\mathbf{d} = \\mathbf{G}\\mathbf{m}$)\n",
    "- Step4: All three steps together\n",
    "- Step5: Invert the data, and explore inversion results"
   ]
  },
  {
   "cell_type": "markdown",
   "metadata": {
    "iooxa": {
     "id": {
      "block": "TVYiH721oymtWnC2zQ1w",
      "project": "VNMrkxzChhdveZyf6lmb",
      "version": 2
     }
    }
   },
   "source": [
    "## Forward problem\n",
    "\n",
    "\n",
    "Let $g_j(x)$ denote the kernel function for $j$th datum. With a given model $m(x)$, $j$th datum can be computed by solving following integral equation:\n",
    "\n",
    " $$ d_j = \\int_a^{b} g_j(x) m(x) dx $$\n",
    "\n",
    "where \n",
    "\n",
    "$$ g_j(x) = e^{p_jx} cos (2 \\pi q_jx) $$ \n",
    "\n",
    "By discretizing $g_j(x)$ we obtain"
   ]
  },
  {
   "cell_type": "markdown",
   "metadata": {
    "iooxa": {
     "id": {
      "block": "s9H8M9Mtzk7wkXBPF8iZ",
      "project": "VNMrkxzChhdveZyf6lmb",
      "version": 2
     }
    }
   },
   "source": [
    "$$ \\mathbf{g}_j(\\mathbf{x}) = e^{p_j\\mathbf{x}} cos (2 \\pi q_j \\mathbf{x})$$\n",
    "\n",
    "where\n",
    "\n",
    "- $\\mathbf{g}_j$: $j$th row vector for the sensitivty matrix ($1 \\times M$)\n",
    "- $\\mathbf{x}$: model location ($1 \\times M$)\n",
    "- $p_j$: decaying constant (<0)\n",
    "- $q_j$: oscillating constant (>0)\n",
    "\n",
    "By stacking multiple rows of $\\mathbf{g}_j$, we obtain sensitivity matrix, $\\mathbf{G}$: \n",
    "\n",
    "\\begin{align}\n",
    "    \\mathbf{G} = \n",
    "    \\begin{bmatrix}\n",
    "        \\mathbf{g}_1\\\\\n",
    "        \\vdots\\\\\n",
    "        \\mathbf{g}_{N}\n",
    "    \\end{bmatrix}\n",
    "\\end{align}\n",
    "\n",
    "Here, the size of the matrix $\\mathbf{G}$ is $(N \\times M)$. \n",
    "Finally data, $\\mathbf{d}$, can be written as a linear equation:\n",
    "\n",
    "$$ \\mathbf{d} = \\mathbf{G}\\mathbf{m}$$\n",
    "\n",
    "where $\\mathbf{m}$ is an inversion model; this is a column vector ($M \\times 1$). \n",
    "\n",
    "In real measurments, there will be various noises source, and hence observation, $\\mathbf{d}^{obs}$, can be written as \n",
    "\n",
    "$$ \\mathbf{d}^{obs} = \\mathbf{G}\\mathbf{m} + \\mathbf{noise}$$"
   ]
  },
  {
   "cell_type": "markdown",
   "metadata": {
    "iooxa": {
     "id": {
      "block": "UY71pbGgRaPr7PBxH3OT",
      "project": "VNMrkxzChhdveZyf6lmb",
      "version": 1
     }
    }
   },
   "source": [
    "##  Step1: Create a model, $\\mathbf{m}$\n",
    "\n",
    "The model $m$ is a function defined on the interval (-2,2). Here we generate a model that is the sum of a: (a) background $m_{ref}$, (b) box car $m_1$ and (c) Gaussian $m_2$. The box car is defined by\n",
    "- m$_{background}$ : amplitude of the background\n",
    "- m1 : amplitude\n",
    "- $m1_{center}$ : center\n",
    "- $m1_{width}$ : width\n",
    "the Gaussian is defined by \n",
    "- m2 : amplitude\n",
    "- $m2_{center}$ : center\n",
    "- $m2_{sigma}$ : width of Gaussian (as defined by a standard deviation)\n",
    "- M: # of model parameters"
   ]
  },
  {
   "cell_type": "code",
   "execution_count": 3,
   "metadata": {},
   "outputs": [
    {
     "data": {
      "application/vnd.jupyter.widget-view+json": {
       "model_id": "3adcae27d6094429b371155bf09c8746",
       "version_major": 2,
       "version_minor": 0
      },
      "text/plain": [
       "interactive(children=(FloatSlider(value=0.0, continuous_update=False, description='m$_{background}$', max=2.0,…"
      ]
     },
     "metadata": {},
     "output_type": "display_data"
    }
   ],
   "source": [
    "Q_model = app.interact_plot_model()"
   ]
  },
  {
   "cell_type": "markdown",
   "metadata": {
    "iooxa": {
     "id": {
      "block": "0zUv3gNqulptgg5RQABq",
      "project": "VNMrkxzChhdveZyf6lmb",
      "version": 1
     }
    }
   },
   "source": [
    "##  Step2: Generate a sensitivity kernel (or matrix), $\\mathbf{G}$\n",
    "\n",
    "By using the following app, we explore each row vector of the sensitivity matrix, $\\mathbf{g}_j$. Parameters of the apps are:\n",
    "\n",
    "- M: # of model parameters\n",
    "- N: # of data\n",
    "- p: decaying constant (<0)\n",
    "- q: oscillating constant (>0)\n",
    "- ymin: maximum limit for y-axis\n",
    "- ymax: minimum limit for y-axis"
   ]
  },
  {
   "cell_type": "code",
   "execution_count": 4,
   "metadata": {
    "iooxa": {
     "id": {
      "block": "x9PxRUeZbvYukM3fIzi0",
      "project": "VNMrkxzChhdveZyf6lmb",
      "version": 3
     },
     "outputId": {
      "block": "xjP1IRGiznblm7UECCWU",
      "project": "VNMrkxzChhdveZyf6lmb",
      "version": 3
     }
    }
   },
   "outputs": [
    {
     "data": {
      "application/vnd.jupyter.widget-view+json": {
       "model_id": "dc83b803df1349e292c0874c7c2d52b9",
       "version_major": 2,
       "version_minor": 0
      },
      "text/plain": [
       "interactive(children=(IntSlider(value=20, continuous_update=False, description='N', min=1), IntSlider(value=10…"
      ]
     },
     "metadata": {},
     "output_type": "display_data"
    }
   ],
   "source": [
    "Q_kernel = app.interact_plot_G()"
   ]
  },
  {
   "cell_type": "markdown",
   "metadata": {
    "iooxa": {
     "id": {
      "block": "B3aFbgUWKTzmqttCPDu3",
      "project": "VNMrkxzChhdveZyf6lmb",
      "version": 1
     }
    }
   },
   "source": [
    "## Step3: Simulate data"
   ]
  },
  {
   "cell_type": "markdown",
   "metadata": {
    "iooxa": {
     "id": {
      "block": "fOWoINnfZAyspfxAKRnr",
      "project": "VNMrkxzChhdveZyf6lmb",
      "version": 1
     }
    }
   },
   "source": [
    "The $j$-th datum is the inner product of the $j$-th kernel $g_j(x)$ and the model $m(x)$. In discrete form it can be written as the dot product of the vector $g_j$ and the model vector $m$."
   ]
  },
  {
   "cell_type": "markdown",
   "metadata": {
    "iooxa": {
     "id": {
      "block": "xeKrzyj4YLEYLfraRG1y",
      "project": "VNMrkxzChhdveZyf6lmb",
      "version": 1
     }
    }
   },
   "source": [
    "### $$ d_j = \\mathbf{g}_j \\mathbf{m} $$\n",
    "\n",
    "If there are $N$ data, these data can be written as a column vector, $\\mathbf{d}$:\n",
    "\n",
    "\\begin{align}\n",
    "    \\mathbf{d} = \\mathbf{G}\\mathbf{m} = \n",
    "    \\begin{bmatrix}\n",
    "        d_1\\\\\n",
    "        \\vdots\\\\\n",
    "        d_{N}\n",
    "    \\end{bmatrix}\n",
    "\\end{align}"
   ]
  },
  {
   "cell_type": "markdown",
   "metadata": {
    "iooxa": {
     "id": {
      "block": "k5SdPFYbjSTR0Unuprld",
      "project": "VNMrkxzChhdveZyf6lmb",
      "version": 1
     }
    }
   },
   "source": [
    "### Adding Noise\n",
    "\n",
    "Observational data are always contaminated with noise. Here we add Gaussian noise $N(0,\\epsilon)$ (zero mean and standard deviation $\\sigma$). Here we choose \n",
    "\n",
    "$$ \\epsilon = \\% |d| + \\text{floor} $$\n",
    "  "
   ]
  },
  {
   "cell_type": "code",
   "execution_count": 5,
   "metadata": {},
   "outputs": [
    {
     "data": {
      "application/vnd.jupyter.widget-view+json": {
       "model_id": "4b703dfcdf854f6faca1d92580ef97df",
       "version_major": 2,
       "version_minor": 0
      },
      "text/plain": [
       "interactive(children=(Checkbox(value=False, description='add_noise'), FloatText(value=0.0, description='percen…"
      ]
     },
     "metadata": {},
     "output_type": "display_data"
    }
   ],
   "source": [
    "Q_data = app.interact_plot_data()"
   ]
  },
  {
   "cell_type": "markdown",
   "metadata": {
    "iooxa": {
     "id": {
      "block": "Kfas1vohMX9B1w8haaeF",
      "project": "VNMrkxzChhdveZyf6lmb",
      "version": 1
     }
    }
   },
   "source": [
    "## Step4: All three steps together"
   ]
  },
  {
   "cell_type": "code",
   "execution_count": 6,
   "metadata": {
    "iooxa": {
     "id": {
      "block": "gpeg40wOdccGxZMMBIxU",
      "project": "VNMrkxzChhdveZyf6lmb",
      "version": 3
     },
     "outputId": {
      "block": "yFInpwVxV9MsRBuL5pNr",
      "project": "VNMrkxzChhdveZyf6lmb",
      "version": 3
     }
    }
   },
   "outputs": [
    {
     "data": {
      "application/vnd.jupyter.widget-view+json": {
       "model_id": "067de866ba284e52aa9f6bc051bf4cd4",
       "version_major": 2,
       "version_minor": 0
      },
      "text/plain": [
       "VBox(children=(HBox(children=(VBox(children=(Button(description='Model', layout=Layout(height='30px', width='1…"
      ]
     },
     "metadata": {},
     "output_type": "display_data"
    }
   ],
   "source": [
    "app.interact_plot_all_three_together()"
   ]
  },
  {
   "cell_type": "code",
   "execution_count": 7,
   "metadata": {},
   "outputs": [],
   "source": [
    "app.reset_to_defaults()"
   ]
  },
  {
   "cell_type": "markdown",
   "metadata": {
    "iooxa": {
     "id": {
      "block": "I5cRNN1g9FcrGvbH7UKL",
      "project": "VNMrkxzChhdveZyf6lmb",
      "version": 1
     }
    }
   },
   "source": [
    "## Inverse Problem\n",
    "\n",
    "In the inverse problem we attempt to find the model $\\mathbf{m}$ that gave rise to the observational data $\\mathbf{d}^{obs}$. The inverse problem is formulated as an optimization problem: \n",
    "\n",
    "\n",
    "$$\\text{minimize} \\ \\ \\ \\phi(\\mathbf{m}) = \\phi_d(\\mathbf{m}) + \\beta \\phi_m(\\mathbf{m}) $$\n",
    "\n",
    "where \n",
    "\n",
    "- $\\phi_d$: data misfit\n",
    "- $\\phi_m$: model regularization\n",
    "- $\\beta$: trade-off (or Tikhonov) parameter  $0<\\beta<\\infty$\n",
    "\n",
    "Data misfit is defined as \n",
    "\n",
    "$$ \\phi_d = \\sum_{j=1}^{N}\\Big(\\frac{\\mathbf{g}_j\\mathbf{m}-d^{obs}_j}{\\epsilon_j}\\Big)^2$$\n",
    "\n",
    "where $\\epsilon_j$  is an estimate of the standard deviation of the $j$th datum.\n",
    "\n",
    "\n",
    "\n"
   ]
  },
  {
   "cell_type": "markdown",
   "metadata": {
    "iooxa": {
     "id": {
      "block": "DPEqdTQucMMV6G5ONR7c",
      "project": "VNMrkxzChhdveZyf6lmb",
      "version": 1
     }
    }
   },
   "source": [
    "The model regularization term, $\\phi_m$, can be written as \n",
    "\n",
    "$$ \\phi_m(\\mathbf{m}) = \\alpha_s \\int (\\mathbf{m}-\\mathbf{m}_{ref}) dx + \\alpha_x \\int (\\frac{d \\mathbf{m}}{dx}) dx$$\n",
    "\n",
    "The first term is referred to as the \"smallness\" term. Minimizing this generates a model that is close to a reference model $m_{ref}$. The second term penalizes roughness of the model. It is generically referred to as a \"flattest\" or \"smoothness\" term.  "
   ]
  },
  {
   "cell_type": "markdown",
   "metadata": {
    "iooxa": {
     "id": {
      "block": "j7hVPYIA73jbxv0bAinV",
      "project": "VNMrkxzChhdveZyf6lmb",
      "version": 2
     }
    }
   },
   "source": [
    "## Step5: Invert the data, and explore inversion results\n",
    "\n"
   ]
  },
  {
   "cell_type": "markdown",
   "metadata": {
    "iooxa": {
     "id": {
      "block": "8k53qHfi1hcwT29TMxNC",
      "project": "VNMrkxzChhdveZyf6lmb",
      "version": 1
     }
    }
   },
   "source": [
    "In the inverse problem we define parameters needed to evaluate the data misfit and the model regularization terms. We then deal with parameters associated with the inversion.\n",
    "\n",
    "### Parameters\n",
    "\n",
    "- `mode`: `Run` or `Explore`\n",
    "    - `Run`: Each click of the app, will run `n_beta` times of inversion\n",
    "    - `Explore`: Not running inversions, but explore result of the inversions\n",
    "\n",
    "#### Misfit\n",
    "- `percent`: percentage of the uncertainty (%)\n",
    "\n",
    "- `floor`: floor of the uncertainty (%)\n",
    "\n",
    "- `chifact`: chi factor for stopping criteria (when $\\phi_d^{\\ast}=N \\rightarrow$ `chifact=1`)\n",
    "\n",
    "#### Model norm\n",
    "- `mref`: reference model\n",
    "\n",
    "- `alpha_s`: $\\alpha_s$ for smallness\n",
    "\n",
    "- `alpha_x`: $\\alpha_x$ for smoothness\n",
    "\n",
    "#### Beta\n",
    "- `beta_min`: minimum $\\beta$\n",
    "\n",
    "- `beta_max`: maximum $\\beta$\n",
    "\n",
    "- `n_beta`: the number of $\\beta$\n",
    "\n",
    "#### Plotting options\n",
    "\n",
    "- `data`: `obs & pred` or `normalized misfit`\n",
    "    - `obs & pred`: show observed and predicted data\n",
    "    - `normalized misfit`: show normalized misfit\n",
    "\n",
    "\n",
    "- `tikhonov`: `phi_d & phi_m` or `phi_d vs phi_m`\n",
    "    - `phi_d & phi_m`: show $\\phi_d$ and $\\phi_m$ as a function of $\\beta$\n",
    "    - `phi_d vs phi_m`: show tikhonov curve\n",
    "    \n",
    "- `i_beta`: i-th $\\beta$ value\n",
    "\n",
    "- `scale`: `linear` or `log`\n",
    "    - `linear`: linear scale for plotting the third panel\n",
    "    - `log`: log scale for plotting the third panel     "
   ]
  },
  {
   "cell_type": "code",
   "execution_count": 8,
   "metadata": {
    "iooxa": {
     "id": {
      "block": "zYsKlEza7On1cZcJUO1x",
      "project": "VNMrkxzChhdveZyf6lmb",
      "version": 3
     },
     "outputId": {
      "block": "XHsuSTVmGPtaRtV3WO9m",
      "project": "VNMrkxzChhdveZyf6lmb",
      "version": 3
     }
    },
    "scrolled": false
   },
   "outputs": [
    {
     "data": {
      "application/vnd.jupyter.widget-view+json": {
       "model_id": "6ef12a80994d4838bfa608dfa0e95aa3",
       "version_major": 2,
       "version_minor": 0
      },
      "text/plain": [
       "VBox(children=(HBox(children=(RadioButtons(description='mode', options=('Run', 'Explore'), value='Run'),)), HB…"
      ]
     },
     "metadata": {},
     "output_type": "display_data"
    },
    {
     "data": {
      "image/png": "[encoded data removed]",
      "text/plain": [
       "<Figure size 1209.6x259.2 with 3 Axes>"
      ]
     },
     "metadata": {
      "needs_background": "light"
     },
     "output_type": "display_data"
    }
   ],
   "source": [
    "app.interact_plot_inversion()"
   ]
  },
  {
   "cell_type": "code",
   "execution_count": null,
   "metadata": {},
   "outputs": [
    {
     "name": "stdout",
     "output_type": "stream",
     "text": [
      "> \u001b[0;32m/Users/sgkang/anaconda3/lib/python3.7/site-packages/matplotlib/axes/_base.py\u001b[0m(377)\u001b[0;36m_plot_args\u001b[0;34m()\u001b[0m\n",
      "\u001b[0;32m    375 \u001b[0;31m        \u001b[0;31m# downstream.\u001b[0m\u001b[0;34m\u001b[0m\u001b[0;34m\u001b[0m\u001b[0;34m\u001b[0m\u001b[0m\n",
      "\u001b[0m\u001b[0;32m    376 \u001b[0;31m        \u001b[0;32mif\u001b[0m \u001b[0many\u001b[0m\u001b[0;34m(\u001b[0m\u001b[0mv\u001b[0m \u001b[0;32mis\u001b[0m \u001b[0;32mNone\u001b[0m \u001b[0;32mfor\u001b[0m \u001b[0mv\u001b[0m \u001b[0;32min\u001b[0m \u001b[0mtup\u001b[0m\u001b[0;34m)\u001b[0m\u001b[0;34m:\u001b[0m\u001b[0;34m\u001b[0m\u001b[0;34m\u001b[0m\u001b[0m\n",
      "\u001b[0m\u001b[0;32m--> 377 \u001b[0;31m            \u001b[0;32mraise\u001b[0m \u001b[0mValueError\u001b[0m\u001b[0;34m(\u001b[0m\u001b[0;34m\"x, y, and format string must not be None\"\u001b[0m\u001b[0;34m)\u001b[0m\u001b[0;34m\u001b[0m\u001b[0;34m\u001b[0m\u001b[0m\n",
      "\u001b[0m\u001b[0;32m    378 \u001b[0;31m\u001b[0;34m\u001b[0m\u001b[0m\n",
      "\u001b[0m\u001b[0;32m    379 \u001b[0;31m        \u001b[0mkw\u001b[0m \u001b[0;34m=\u001b[0m \u001b[0;34m{\u001b[0m\u001b[0;34m}\u001b[0m\u001b[0;34m\u001b[0m\u001b[0;34m\u001b[0m\u001b[0m\n",
      "\u001b[0m\n",
      "ipdb> u\n",
      "> \u001b[0;32m/Users/sgkang/anaconda3/lib/python3.7/site-packages/matplotlib/axes/_base.py\u001b[0m(225)\u001b[0;36m__call__\u001b[0;34m()\u001b[0m\n",
      "\u001b[0;32m    223 \u001b[0;31m                \u001b[0mthis\u001b[0m \u001b[0;34m+=\u001b[0m \u001b[0margs\u001b[0m\u001b[0;34m[\u001b[0m\u001b[0;36m0\u001b[0m\u001b[0;34m]\u001b[0m\u001b[0;34m,\u001b[0m\u001b[0;34m\u001b[0m\u001b[0;34m\u001b[0m\u001b[0m\n",
      "\u001b[0m\u001b[0;32m    224 \u001b[0;31m                \u001b[0margs\u001b[0m \u001b[0;34m=\u001b[0m \u001b[0margs\u001b[0m\u001b[0;34m[\u001b[0m\u001b[0;36m1\u001b[0m\u001b[0;34m:\u001b[0m\u001b[0;34m]\u001b[0m\u001b[0;34m\u001b[0m\u001b[0;34m\u001b[0m\u001b[0m\n",
      "\u001b[0m\u001b[0;32m--> 225 \u001b[0;31m            \u001b[0;32myield\u001b[0m \u001b[0;32mfrom\u001b[0m \u001b[0mself\u001b[0m\u001b[0;34m.\u001b[0m\u001b[0m_plot_args\u001b[0m\u001b[0;34m(\u001b[0m\u001b[0mthis\u001b[0m\u001b[0;34m,\u001b[0m \u001b[0mkwargs\u001b[0m\u001b[0;34m)\u001b[0m\u001b[0;34m\u001b[0m\u001b[0;34m\u001b[0m\u001b[0m\n",
      "\u001b[0m\u001b[0;32m    226 \u001b[0;31m\u001b[0;34m\u001b[0m\u001b[0m\n",
      "\u001b[0m\u001b[0;32m    227 \u001b[0;31m    \u001b[0;32mdef\u001b[0m \u001b[0mget_next_color\u001b[0m\u001b[0;34m(\u001b[0m\u001b[0mself\u001b[0m\u001b[0;34m)\u001b[0m\u001b[0;34m:\u001b[0m\u001b[0;34m\u001b[0m\u001b[0;34m\u001b[0m\u001b[0m\n",
      "\u001b[0m\n",
      "ipdb> u\n",
      "> \u001b[0;32m/Users/sgkang/anaconda3/lib/python3.7/site-packages/matplotlib/axes/_axes.py\u001b[0m(1666)\u001b[0;36mplot\u001b[0;34m()\u001b[0m\n",
      "\u001b[0;32m   1664 \u001b[0;31m        \"\"\"\n",
      "\u001b[0m\u001b[0;32m   1665 \u001b[0;31m        \u001b[0mkwargs\u001b[0m \u001b[0;34m=\u001b[0m \u001b[0mcbook\u001b[0m\u001b[0;34m.\u001b[0m\u001b[0mnormalize_kwargs\u001b[0m\u001b[0;34m(\u001b[0m\u001b[0mkwargs\u001b[0m\u001b[0;34m,\u001b[0m \u001b[0mmlines\u001b[0m\u001b[0;34m.\u001b[0m\u001b[0mLine2D\u001b[0m\u001b[0;34m.\u001b[0m\u001b[0m_alias_map\u001b[0m\u001b[0;34m)\u001b[0m\u001b[0;34m\u001b[0m\u001b[0;34m\u001b[0m\u001b[0m\n",
      "\u001b[0m\u001b[0;32m-> 1666 \u001b[0;31m        \u001b[0mlines\u001b[0m \u001b[0;34m=\u001b[0m \u001b[0;34m[\u001b[0m\u001b[0;34m*\u001b[0m\u001b[0mself\u001b[0m\u001b[0;34m.\u001b[0m\u001b[0m_get_lines\u001b[0m\u001b[0;34m(\u001b[0m\u001b[0;34m*\u001b[0m\u001b[0margs\u001b[0m\u001b[0;34m,\u001b[0m \u001b[0mdata\u001b[0m\u001b[0;34m=\u001b[0m\u001b[0mdata\u001b[0m\u001b[0;34m,\u001b[0m \u001b[0;34m**\u001b[0m\u001b[0mkwargs\u001b[0m\u001b[0;34m)\u001b[0m\u001b[0;34m]\u001b[0m\u001b[0;34m\u001b[0m\u001b[0;34m\u001b[0m\u001b[0m\n",
      "\u001b[0m\u001b[0;32m   1667 \u001b[0;31m        \u001b[0;32mfor\u001b[0m \u001b[0mline\u001b[0m \u001b[0;32min\u001b[0m \u001b[0mlines\u001b[0m\u001b[0;34m:\u001b[0m\u001b[0;34m\u001b[0m\u001b[0;34m\u001b[0m\u001b[0m\n",
      "\u001b[0m\u001b[0;32m   1668 \u001b[0;31m            \u001b[0mself\u001b[0m\u001b[0;34m.\u001b[0m\u001b[0madd_line\u001b[0m\u001b[0;34m(\u001b[0m\u001b[0mline\u001b[0m\u001b[0;34m)\u001b[0m\u001b[0;34m\u001b[0m\u001b[0;34m\u001b[0m\u001b[0m\n",
      "\u001b[0m\n",
      "ipdb> u\n",
      "> \u001b[0;32m/Users/sgkang/Projects/geosci-labs/geoscilabs/inversion/LinearInversionDirect.py\u001b[0m(620)\u001b[0;36mplot_inversion\u001b[0;34m()\u001b[0m\n",
      "\u001b[0;32m    618 \u001b[0;31m\u001b[0;34m\u001b[0m\u001b[0m\n",
      "\u001b[0m\u001b[0;32m    619 \u001b[0;31m        \u001b[0mfig\u001b[0m\u001b[0;34m,\u001b[0m \u001b[0maxes\u001b[0m \u001b[0;34m=\u001b[0m \u001b[0mplt\u001b[0m\u001b[0;34m.\u001b[0m\u001b[0msubplots\u001b[0m\u001b[0;34m(\u001b[0m\u001b[0;36m1\u001b[0m\u001b[0;34m,\u001b[0m \u001b[0;36m3\u001b[0m\u001b[0;34m,\u001b[0m \u001b[0mfigsize\u001b[0m\u001b[0;34m=\u001b[0m\u001b[0;34m(\u001b[0m\u001b[0;36m14\u001b[0m \u001b[0;34m*\u001b[0m \u001b[0;36m1.2\u001b[0m\u001b[0;34m,\u001b[0m \u001b[0;36m3\u001b[0m \u001b[0;34m*\u001b[0m \u001b[0;36m1.2\u001b[0m\u001b[0;34m)\u001b[0m\u001b[0;34m)\u001b[0m\u001b[0;34m\u001b[0m\u001b[0;34m\u001b[0m\u001b[0m\n",
      "\u001b[0m\u001b[0;32m--> 620 \u001b[0;31m        \u001b[0maxes\u001b[0m\u001b[0;34m[\u001b[0m\u001b[0;36m0\u001b[0m\u001b[0;34m]\u001b[0m\u001b[0;34m.\u001b[0m\u001b[0mplot\u001b[0m\u001b[0;34m(\u001b[0m\u001b[0mself\u001b[0m\u001b[0;34m.\u001b[0m\u001b[0mmesh_prop\u001b[0m\u001b[0;34m.\u001b[0m\u001b[0mvectorCCx\u001b[0m\u001b[0;34m,\u001b[0m \u001b[0mself\u001b[0m\u001b[0;34m.\u001b[0m\u001b[0mm\u001b[0m\u001b[0;34m)\u001b[0m\u001b[0;34m\u001b[0m\u001b[0;34m\u001b[0m\u001b[0m\n",
      "\u001b[0m\u001b[0;32m    621 \u001b[0;31m        \u001b[0;32mif\u001b[0m \u001b[0mmode\u001b[0m \u001b[0;34m==\u001b[0m \u001b[0;34m\"Run\"\u001b[0m\u001b[0;34m:\u001b[0m\u001b[0;34m\u001b[0m\u001b[0;34m\u001b[0m\u001b[0m\n",
      "\u001b[0m\u001b[0;32m    622 \u001b[0;31m            \u001b[0maxes\u001b[0m\u001b[0;34m[\u001b[0m\u001b[0;36m0\u001b[0m\u001b[0;34m]\u001b[0m\u001b[0;34m.\u001b[0m\u001b[0mplot\u001b[0m\u001b[0;34m(\u001b[0m\u001b[0mself\u001b[0m\u001b[0;34m.\u001b[0m\u001b[0mmesh_prop\u001b[0m\u001b[0;34m.\u001b[0m\u001b[0mvectorCCx\u001b[0m\u001b[0;34m,\u001b[0m \u001b[0mself\u001b[0m\u001b[0;34m.\u001b[0m\u001b[0mmodel\u001b[0m\u001b[0;34m[\u001b[0m\u001b[0mi_target\u001b[0m\u001b[0;34m]\u001b[0m\u001b[0;34m)\u001b[0m\u001b[0;34m\u001b[0m\u001b[0;34m\u001b[0m\u001b[0m\n",
      "\u001b[0m\n",
      "ipdb> self.m.shape\n",
      "*** AttributeError: 'NoneType' object has no attribute 'shape'\n",
      "ipdb> self.m\n"
     ]
    }
   ],
   "source": [
    "debug"
   ]
  },
  {
   "cell_type": "code",
   "execution_count": null,
   "metadata": {},
   "outputs": [],
   "source": []
  },
  {
   "cell_type": "code",
   "execution_count": 9,
   "metadata": {},
   "outputs": [],
   "source": [
    "def foo(**kwargs):\n",
    "    return kwargs"
   ]
  },
  {
   "cell_type": "code",
   "execution_count": 10,
   "metadata": {},
   "outputs": [
    {
     "data": {
      "text/plain": [
       "{'a': 1, 'b': 1}"
      ]
     },
     "execution_count": 10,
     "metadata": {},
     "output_type": "execute_result"
    }
   ],
   "source": [
    "foo(a=1, b=1)"
   ]
  },
  {
   "cell_type": "code",
   "execution_count": 11,
   "metadata": {},
   "outputs": [
    {
     "data": {
      "text/plain": [
       "OrderedDict([('m', <properties.math.Array at 0x10f57f4e0>),\n",
       "             ('m_background', <properties.basic.Float at 0x10f57f550>),\n",
       "             ('m1', <properties.basic.Float at 0x1102c2cc0>),\n",
       "             ('m1_center', <properties.basic.Float at 0x1102c2cf8>),\n",
       "             ('dm1', <properties.basic.Float at 0x125305dd8>),\n",
       "             ('m2', <properties.basic.Float at 0x125137400>),\n",
       "             ('m2_center', <properties.basic.Float at 0x12e688a20>),\n",
       "             ('dm2', <properties.basic.Float at 0x12e688d30>),\n",
       "             ('sigma_2', <properties.basic.Float at 0x12e688e10>),\n",
       "             ('N', <properties.basic.Integer at 0x12e688e48>),\n",
       "             ('M', <properties.basic.Integer at 0x12e688e80>),\n",
       "             ('pmin', <properties.basic.Float at 0x12e688f28>),\n",
       "             ('pmax', <properties.basic.Float at 0x12e69bdd8>),\n",
       "             ('qmin', <properties.basic.Float at 0x12e6a00b8>),\n",
       "             ('qmax', <properties.basic.Float at 0x12e6a0438>),\n",
       "             ('scale', <properties.basic.StringChoice at 0x12e6a0d30>),\n",
       "             ('fixed', <properties.basic.Boolean at 0x12e6a0e80>),\n",
       "             ('ymin', <properties.basic.Float at 0x12e6a0e10>),\n",
       "             ('ymax', <properties.basic.Float at 0x12e6a0e48>),\n",
       "             ('add_noise', <properties.basic.Boolean at 0x12e6a0eb8>),\n",
       "             ('percentage', <properties.basic.Float at 0x12e6a0ef0>),\n",
       "             ('floor', <properties.basic.Float at 0x12e6a0f28>),\n",
       "             ('mode', <properties.basic.StringChoice at 0x12e6a0f98>),\n",
       "             ('mref', <properties.basic.Float at 0x12e6b6080>),\n",
       "             ('chifact', <properties.basic.Float at 0x12e6b6048>),\n",
       "             ('data_option', <properties.basic.StringChoice at 0x12e6b6128>),\n",
       "             ('beta_min', <properties.basic.Float at 0x12e6b6198>),\n",
       "             ('beta_max', <properties.basic.Float at 0x12e6b6208>),\n",
       "             ('n_beta', <properties.basic.Integer at 0x12e6b6278>),\n",
       "             ('alpha_s', <properties.basic.Integer at 0x12e6b62e8>),\n",
       "             ('alpha_x', <properties.basic.Integer at 0x12e6b6358>),\n",
       "             ('tikhonov', <properties.basic.StringChoice at 0x12e6b63c8>),\n",
       "             ('i_beta', <properties.basic.Integer at 0x12e6b6438>),\n",
       "             ('scale_inv', <properties.basic.StringChoice at 0x12e6b64a8>),\n",
       "             ('show_model', <properties.basic.Boolean at 0x12e6b6588>),\n",
       "             ('show_data', <properties.basic.Boolean at 0x12e6b6550>),\n",
       "             ('show_kernel', <properties.basic.Boolean at 0x12e6b65f8>)])"
      ]
     },
     "execution_count": 11,
     "metadata": {},
     "output_type": "execute_result"
    }
   ],
   "source": [
    "app._props"
   ]
  },
  {
   "cell_type": "code",
   "execution_count": 12,
   "metadata": {},
   "outputs": [
    {
     "data": {
      "text/plain": [
       "{}"
      ]
     },
     "execution_count": 12,
     "metadata": {},
     "output_type": "execute_result"
    }
   ],
   "source": [
    "app._defaults"
   ]
  },
  {
   "cell_type": "code",
   "execution_count": 13,
   "metadata": {},
   "outputs": [
    {
     "name": "stdout",
     "output_type": "stream",
     "text": [
      "<properties.math.Array object at 0x10f57f4e0>\n",
      "<properties.basic.Float object at 0x10f57f550>\n",
      "<properties.basic.Float object at 0x1102c2cc0>\n",
      "<properties.basic.Float object at 0x1102c2cf8>\n",
      "<properties.basic.Float object at 0x125305dd8>\n",
      "<properties.basic.Float object at 0x125137400>\n",
      "<properties.basic.Float object at 0x12e688a20>\n",
      "<properties.basic.Float object at 0x12e688d30>\n",
      "<properties.basic.Float object at 0x12e688e10>\n",
      "<properties.basic.Integer object at 0x12e688e48>\n",
      "<properties.basic.Integer object at 0x12e688e80>\n",
      "<properties.basic.Float object at 0x12e688f28>\n",
      "<properties.basic.Float object at 0x12e69bdd8>\n",
      "<properties.basic.Float object at 0x12e6a00b8>\n",
      "<properties.basic.Float object at 0x12e6a0438>\n",
      "<properties.basic.StringChoice object at 0x12e6a0d30>\n",
      "<properties.basic.Boolean object at 0x12e6a0e80>\n",
      "<properties.basic.Float object at 0x12e6a0e10>\n",
      "<properties.basic.Float object at 0x12e6a0e48>\n",
      "<properties.basic.Boolean object at 0x12e6a0eb8>\n",
      "<properties.basic.Float object at 0x12e6a0ef0>\n",
      "<properties.basic.Float object at 0x12e6a0f28>\n",
      "<properties.basic.StringChoice object at 0x12e6a0f98>\n",
      "<properties.basic.Float object at 0x12e6b6080>\n",
      "<properties.basic.Float object at 0x12e6b6048>\n",
      "<properties.basic.StringChoice object at 0x12e6b6128>\n",
      "<properties.basic.Float object at 0x12e6b6198>\n",
      "<properties.basic.Float object at 0x12e6b6208>\n",
      "<properties.basic.Integer object at 0x12e6b6278>\n",
      "<properties.basic.Integer object at 0x12e6b62e8>\n",
      "<properties.basic.Integer object at 0x12e6b6358>\n",
      "<properties.basic.StringChoice object at 0x12e6b63c8>\n",
      "<properties.basic.Integer object at 0x12e6b6438>\n",
      "<properties.basic.StringChoice object at 0x12e6b64a8>\n",
      "<properties.basic.Boolean object at 0x12e6b6588>\n",
      "<properties.basic.Boolean object at 0x12e6b6550>\n",
      "<properties.basic.Boolean object at 0x12e6b65f8>\n"
     ]
    }
   ],
   "source": [
    "for key in app._props:\n",
    "    print (app._props[key])"
   ]
  },
  {
   "cell_type": "code",
   "execution_count": null,
   "metadata": {},
   "outputs": [],
   "source": []
  }
 ],
 "metadata": {
  "iooxa": {
   "id": {
    "block": "lb7CgEnVPzfs79VcKpB1",
    "project": "VNMrkxzChhdveZyf6lmb",
    "version": 5
   }
  },
  "kernelspec": {
   "display_name": "Python 3",
   "language": "python",
   "name": "python3"
  },
  "language_info": {
   "codemirror_mode": {
    "name": "ipython",
    "version": 3
   },
   "file_extension": ".py",
   "mimetype": "text/x-python",
   "name": "python",
   "nbconvert_exporter": "python",
   "pygments_lexer": "ipython3",
   "version": "3.7.3"
  }
 },
 "nbformat": 4,
 "nbformat_minor": 2
}
