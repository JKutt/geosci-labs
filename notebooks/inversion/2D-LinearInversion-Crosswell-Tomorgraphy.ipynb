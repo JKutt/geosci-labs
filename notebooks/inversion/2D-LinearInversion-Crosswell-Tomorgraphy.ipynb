{
 "cells": [
  {
   "cell_type": "markdown",
   "metadata": {},
   "source": [
    "# 2D Linear Inversion of Crosswell Tomography Data"
   ]
  },
  {
   "cell_type": "code",
   "execution_count": 1,
   "metadata": {},
   "outputs": [],
   "source": [
    "import numpy as np\n",
    "from em_examples.TomographyInversion import TomographyInversionApp\n",
    "import matplotlib.pyplot as plt\n",
    "from SimPEG import Utils\n",
    "from ipywidgets import interact, IntSlider\n",
    "%matplotlib inline\n",
    "app = TomographyInversionApp()"
   ]
  },
  {
   "cell_type": "markdown",
   "metadata": {},
   "source": [
    "# Purpose\n",
    "\n",
    "From the Linear inversion notebook (1D), we learned important apsects about the linear inversion. \n",
    "However, real world geophysical inverse problem are not often 1D, but multidimensional (2D or 3D), and this extension of dimension allows us to put more apriori (or geologic) information through the regularization term. \n",
    "In this notebook, we explore these multidimensional aspects of the linear inversion by using 2D traveltime croswell tomography example. \n",
    "\n",
    "## Outline\n",
    "This notebook includes four steps:\n",
    "- Step1: Generate a velocity model\n",
    "- Step2: Simulate traveltime data and add noise\n",
    "- Step3: Run Smooth inversion\n",
    "- Step4: Run LpLq inversion"
   ]
  },
  {
   "cell_type": "markdown",
   "metadata": {},
   "source": [
    "## Step1: Generate a velocity model\n",
    "\n",
    "- `v0`: velocity of the background\n",
    "- `v1`: velocity of the block\n",
    "- `xc`: x center of the block\n",
    "- `yc`: y center of the block\n",
    "- `dx`: width of the block\n",
    "- `dy`: thickness of the block\n",
    "- `add block`: use active when you want to add block (if not stay inactive)\n",
    "- `model type`: background or block"
   ]
  },
  {
   "cell_type": "code",
   "execution_count": 4,
   "metadata": {},
   "outputs": [
    {
     "data": {
      "application/vnd.jupyter.widget-view+json": {
       "model_id": "1511f3b992bb4edba01e40a6e093fcd5",
       "version_major": 2,
       "version_minor": 0
      },
      "text/plain": [
       "HBox(children=(VBox(children=(FloatSlider(value=1000.0, continuous_update=False, description='v0', max=3000.0,…"
      ]
     },
     "metadata": {},
     "output_type": "display_data"
    }
   ],
   "source": [
    "app.interact_plot_model()"
   ]
  },
  {
   "cell_type": "markdown",
   "metadata": {},
   "source": [
    "## Step2: Simulate travel time data and add noise"
   ]
  },
  {
   "cell_type": "code",
   "execution_count": 5,
   "metadata": {},
   "outputs": [
    {
     "data": {
      "application/vnd.jupyter.widget-view+json": {
       "model_id": "bc020570f6824532a8d92f550f439ac3",
       "version_major": 2,
       "version_minor": 0
      },
      "text/plain": [
       "HBox(children=(Output(), Box(children=(Box(children=(BoundedFloatText(value=5.0, description='percent ($\\\\%$):…"
      ]
     },
     "metadata": {},
     "output_type": "display_data"
    }
   ],
   "source": [
    "app.interact_data()"
   ]
  },
  {
   "cell_type": "markdown",
   "metadata": {},
   "source": [
    "## Step3: Smooth inversion\n",
    "\n",
    "- `maxIter`: maximum number of iteration\n",
    "- `m0`: initial model\n",
    "- `mref`: reference model\n",
    "- `percentage`: percent standard deviation for the uncertainty\n",
    "- `floor`: floor value for the uncertainty\n",
    "- `chifact`: chifactor for the target misfit\n",
    "- `beta0_ratio`: ratio to set the initial beta\n",
    "- `coolingFactor`: cooling factor to cool beta\n",
    "- `coolingRate`: cooling rate to cool beta\n",
    "- `alpha_s`: $\\alpha_s$\n",
    "- `alpha_x`: $\\alpha_x$\n",
    "- `alpha_z`: $\\alpha_z$\n",
    "- `use_target`: use target misfit as a stopping criteria or not"
   ]
  },
  {
   "cell_type": "markdown",
   "metadata": {},
   "source": [
    "### Step 3-1: Run inversion"
   ]
  },
  {
   "cell_type": "code",
   "execution_count": 6,
   "metadata": {},
   "outputs": [
    {
     "name": "stdout",
     "output_type": "stream",
     "text": [
      "SimPEG.DataMisfit.l2_DataMisfit assigning default std of 5%\n",
      "SimPEG.DataMisfit.l2_DataMisfit assigning default eps of 1e-5 * ||dobs||\n",
      "\n",
      "    SimPEG.InvProblem is setting bfgsH0 to the inverse of the eval2Deriv.\n",
      "    ***Done using same Solver and solverOpts as the problem***\n",
      "SimPEG.SaveOutputEveryIteration will save your inversion progress as: '###-InversionModel-2019-03-11-11-44.txt'\n",
      "model has any nan: 0\n",
      "============================ Inexact Gauss Newton ============================\n",
      "  #     beta     phi_d     phi_m       f      |proj(x-g)-x|  LS    Comment   \n",
      "-----------------------------------------------------------------------------\n",
      "x0 has any nan: 0\n",
      "   0  1.80e+07  1.07e+02  0.00e+00  1.07e+02    8.74e+04      0              \n",
      "   1  9.01e+06  1.06e+02  3.90e-08  1.06e+02    4.31e+04      0              \n",
      "   2  4.51e+06  1.05e+02  1.50e-07  1.05e+02    4.24e+04      0   Skip BFGS  \n",
      "   3  2.25e+06  1.02e+02  5.54e-07  1.03e+02    4.14e+04      0   Skip BFGS  \n",
      "   4  1.13e+06  9.79e+01  1.92e-06  1.00e+02    3.95e+04      0   Skip BFGS  \n",
      "   5  5.63e+05  9.15e+01  6.10e-06  9.50e+01    3.56e+04      0   Skip BFGS  \n",
      "   6  2.82e+05  8.30e+01  1.71e-05  8.78e+01    3.14e+04      0   Skip BFGS  \n",
      "   7  1.41e+05  7.29e+01  4.31e-05  7.90e+01    2.71e+04      0   Skip BFGS  \n",
      "   8  7.04e+04  6.14e+01  1.02e-04  6.86e+01    2.24e+04      0   Skip BFGS  \n",
      "------------------------- STOP! -------------------------\n",
      "1 : |fc-fOld| = 0.0000e+00 <= tolF*(1+|f0|) = 1.0828e+01\n",
      "1 : |xc-x_last| = 3.3463e-04 <= tolX*(1+|x0|) = 1.0200e-01\n",
      "0 : |proj(x-g)-x|    = 2.2358e+04 <= tolG          = 1.0000e-10\n",
      "0 : |proj(x-g)-x|    = 2.2358e+04 <= 1e3*eps       = 1.0000e-07\n",
      "0 : maxIter   =      20    <= iter          =      9\n",
      "------------------------- DONE! -------------------------\n"
     ]
    }
   ],
   "source": [
    "model, pred, save = app.run_inversion(\n",
    "    maxIter=20,\n",
    "    m0=1./1000.,\n",
    "    mref=1./1000.,\n",
    "    percentage=5,\n",
    "    floor=0.001,\n",
    "    chifact=1,\n",
    "    beta0_ratio=1e2,\n",
    "    coolingFactor=2,\n",
    "    coolingRate=1,\n",
    "    alpha_s=1e0,\n",
    "    alpha_x=1e0,\n",
    "    alpha_z=1e0,\n",
    "    use_target=True\n",
    ")"
   ]
  },
  {
   "cell_type": "markdown",
   "metadata": {},
   "source": [
    "### Step 3-2: Plot recovered model"
   ]
  },
  {
   "cell_type": "code",
   "execution_count": 7,
   "metadata": {},
   "outputs": [
    {
     "data": {
      "application/vnd.jupyter.widget-view+json": {
       "model_id": "6f5d1fa1245049edafe25a20e86fddae",
       "version_major": 2,
       "version_minor": 0
      },
      "text/plain": [
       "interactive(children=(IntSlider(value=9, description='ii', max=9), Checkbox(value=False, description='fixed'),…"
      ]
     },
     "metadata": {},
     "output_type": "display_data"
    }
   ],
   "source": [
    "app.interact_model_inversion(model)"
   ]
  },
  {
   "cell_type": "markdown",
   "metadata": {},
   "source": [
    "### Step 3-3: Plot predicted data "
   ]
  },
  {
   "cell_type": "code",
   "execution_count": 8,
   "metadata": {},
   "outputs": [
    {
     "data": {
      "application/vnd.jupyter.widget-view+json": {
       "model_id": "93c98a7588e3430580d61fcaba85dfd0",
       "version_major": 2,
       "version_minor": 0
      },
      "text/plain": [
       "interactive(children=(IntSlider(value=9, continuous_update=False, description='ii', max=9), Checkbox(value=Fal…"
      ]
     },
     "metadata": {},
     "output_type": "display_data"
    }
   ],
   "source": [
    "app.interact_data_inversion(pred)"
   ]
  },
  {
   "cell_type": "markdown",
   "metadata": {},
   "source": [
    "### Step 3-4: Plot misfit curves"
   ]
  },
  {
   "cell_type": "code",
   "execution_count": 22,
   "metadata": {},
   "outputs": [
    {
     "data": {
      "image/png": "[encoded data removed]",
      "text/plain": [
       "<Figure size 360x144 with 2 Axes>"
      ]
     },
     "metadata": {
      "needs_background": "light"
     },
     "output_type": "display_data"
    }
   ],
   "source": [
    "save.plot_misfit_curves()"
   ]
  },
  {
   "cell_type": "markdown",
   "metadata": {},
   "source": [
    "## Step4: Lp-Lq inversion\n",
    "\n",
    "- `maxIter`: maximum number of iteration\n",
    "- `m0`: initial model\n",
    "- `mref`: reference model\n",
    "- `percentage`: percent standard deviation for the uncertainty\n",
    "- `floor`: floor value for the uncertainty\n",
    "- `chifact`: chifactor for the target misfit\n",
    "- `coolingFactor`: cooling factor to cool beta\n",
    "- `coolingRate`: cooling rate to cool beta\n",
    "- `alpha_s`: $\\alpha_s$\n",
    "- `alpha_x`: $\\alpha_x$\n",
    "- `alpha_z`: $\\alpha_z$\n",
    "- `use_lqlq`: use lplq inversion or not\n",
    "- `p`: norm for the smallness\n",
    "- `qx`: norm for the smoothness in x-direction\n",
    "- `qz`: norm for the smoothness in z-direction\n",
    "- `beta_start`: starting beta"
   ]
  },
  {
   "cell_type": "markdown",
   "metadata": {},
   "source": [
    "### Step 4-1: Run inversion"
   ]
  },
  {
   "cell_type": "code",
   "execution_count": 10,
   "metadata": {},
   "outputs": [
    {
     "name": "stdout",
     "output_type": "stream",
     "text": [
      "SimPEG.DataMisfit.l2_DataMisfit assigning default std of 5%\n",
      "SimPEG.DataMisfit.l2_DataMisfit assigning default eps of 1e-5 * ||dobs||\n",
      "\n",
      "    SimPEG.InvProblem is setting bfgsH0 to the inverse of the eval2Deriv.\n",
      "    ***Done using same Solver and solverOpts as the problem***\n",
      "SimPEG.SaveOutputEveryIteration will save your inversion progress as: '###-InversionModel-2019-03-11-11-44.txt'\n",
      "model has any nan: 0\n",
      "============================ Inexact Gauss Newton ============================\n",
      "  #     beta     phi_d     phi_m       f      |proj(x-g)-x|  LS    Comment   \n",
      "-----------------------------------------------------------------------------\n",
      "x0 has any nan: 0\n",
      "   0  7.00e+04  4.89e+01  2.31e-04  6.51e+01    1.13e+03      0              \n",
      "Reached starting chifact with l2-norm regularization: Start IRLS steps...\n",
      "eps_p: 0.00022810784993480934 eps_q: 0.00022810784993480934\n",
      "delta phim: 0.000e+00\n",
      "   1  3.50e+04  4.88e+01  3.24e-04  6.01e+01    1.38e+04      0              \n",
      "delta phim: 1.101e+07\n",
      "   2  3.50e+04  4.04e+01  5.98e-04  6.13e+01    9.01e+03      0              \n",
      "delta phim: 7.000e-01\n",
      "   3  3.50e+04  4.29e+01  5.63e-04  6.27e+01    7.90e+03      0              \n",
      "delta phim: 1.123e-01\n",
      "   4  3.50e+04  4.50e+01  5.38e-04  6.38e+01    8.07e+03      0   Skip BFGS  \n",
      "delta phim: 1.412e-01\n",
      "   5  3.50e+04  4.67e+01  5.13e-04  6.47e+01    8.51e+03      0   Skip BFGS  \n",
      "delta phim: 1.318e-01\n",
      "   6  3.50e+04  4.83e+01  4.82e-04  6.52e+01    8.48e+03      0              \n",
      "delta phim: 1.151e-01\n",
      "   7  3.50e+04  4.95e+01  4.53e-04  6.54e+01    8.47e+03      0   Skip BFGS  \n",
      "delta phim: 1.064e-01\n",
      "   8  3.50e+04  5.04e+01  4.25e-04  6.53e+01    8.40e+03      0              \n",
      "delta phim: 9.385e-02\n",
      "   9  3.50e+04  5.11e+01  4.07e-04  6.54e+01    1.08e+04      0              \n",
      "delta phim: 1.065e-01\n",
      "  10  3.50e+04  5.19e+01  3.75e-04  6.51e+01    9.58e+03      0              \n",
      "delta phim: 3.761e-02\n",
      "  11  3.50e+04  5.24e+01  3.56e-04  6.48e+01    1.07e+04      0   Skip BFGS  \n",
      "delta phim: 5.843e-02\n",
      "  12  3.50e+04  5.28e+01  3.38e-04  6.46e+01    1.20e+04      0              \n",
      "delta phim: 5.699e-02\n",
      "  13  3.50e+04  5.29e+01  3.23e-04  6.42e+01    1.51e+04      0              \n",
      "delta phim: 8.085e-02\n",
      "  14  3.50e+04  5.30e+01  3.06e-04  6.37e+01    1.46e+04      0              \n",
      "delta phim: 3.900e-03\n",
      "  15  3.50e+04  5.32e+01  2.92e-04  6.34e+01    1.59e+04      0              \n",
      "delta phim: 3.180e-02\n",
      "  16  3.50e+04  5.25e+01  2.87e-04  6.25e+01    1.86e+04      0              \n",
      "delta phim: 7.026e-02\n",
      "  17  3.50e+04  5.16e+01  2.95e-04  6.19e+01    1.91e+04      0   Skip BFGS  \n",
      "delta phim: 1.535e-02\n",
      "  18  3.50e+04  5.17e+01  2.80e-04  6.15e+01    2.06e+04      0              \n",
      "delta phim: 2.785e-02\n",
      "  19  3.50e+04  4.97e+01  3.05e-04  6.04e+01    2.25e+04      0              \n",
      "delta phim: 3.249e-02\n",
      "  20  3.50e+04  4.83e+01  3.24e-04  5.96e+01    2.35e+04      0   Skip BFGS  \n",
      "------------------------- STOP! -------------------------\n",
      "1 : |fc-fOld| = 7.6229e-01 <= tolF*(1+|f0|) = 6.6051e+00\n",
      "1 : |xc-x_last| = 1.7547e-04 <= tolX*(1+|x0|) = 1.0198e-01\n",
      "0 : |proj(x-g)-x|    = 2.3494e+04 <= tolG          = 1.0000e-10\n",
      "0 : |proj(x-g)-x|    = 2.3494e+04 <= 1e3*eps       = 1.0000e-07\n",
      "1 : maxIter   =      20    <= iter          =     20\n",
      "------------------------- DONE! -------------------------\n"
     ]
    }
   ],
   "source": [
    "model_lplq, pred_lplq, save_lplq = app.run_inversion(\n",
    "    maxIter=20,\n",
    "    m0=model[-1],\n",
    "    mref=1./1000.,\n",
    "    percentage=5,\n",
    "    floor=0.001,\n",
    "    chifact=1,\n",
    "    coolingFactor=2,\n",
    "    coolingRate=1,\n",
    "    alpha_s=1e0,\n",
    "    alpha_x=1e0,\n",
    "    alpha_z=1e0,\n",
    "    use_lplq=True,\n",
    "    p=0,\n",
    "    qx=2,\n",
    "    qz=2,\n",
    "    beta_start=7e4\n",
    ")"
   ]
  },
  {
   "cell_type": "markdown",
   "metadata": {},
   "source": [
    "### Step 4-2: Plot recovered model"
   ]
  },
  {
   "cell_type": "code",
   "execution_count": 13,
   "metadata": {},
   "outputs": [
    {
     "data": {
      "application/vnd.jupyter.widget-view+json": {
       "model_id": "86c5341e3d7b4d57ac33f3fade5beef4",
       "version_major": 2,
       "version_minor": 0
      },
      "text/plain": [
       "interactive(children=(IntSlider(value=20, description='ii', max=20), Checkbox(value=False, description='fixed'…"
      ]
     },
     "metadata": {},
     "output_type": "display_data"
    }
   ],
   "source": [
    "app.interact_model_inversion(model_lplq)"
   ]
  },
  {
   "cell_type": "markdown",
   "metadata": {},
   "source": [
    "### Step 4-3: Plot predicted data"
   ]
  },
  {
   "cell_type": "code",
   "execution_count": 12,
   "metadata": {},
   "outputs": [
    {
     "data": {
      "application/vnd.jupyter.widget-view+json": {
       "model_id": "b273862538864cea91ec2aca2e7bf166",
       "version_major": 2,
       "version_minor": 0
      },
      "text/plain": [
       "interactive(children=(IntSlider(value=20, continuous_update=False, description='ii', max=20), Checkbox(value=F…"
      ]
     },
     "metadata": {},
     "output_type": "display_data"
    }
   ],
   "source": [
    "app.interact_data_inversion(pred_lplq)"
   ]
  },
  {
   "cell_type": "markdown",
   "metadata": {},
   "source": [
    "### Step 4-4: Plot misfit curves"
   ]
  },
  {
   "cell_type": "code",
   "execution_count": 18,
   "metadata": {},
   "outputs": [
    {
     "data": {
      "image/png": "[encoded data removed]",
      "text/plain": [
       "<Figure size 360x144 with 2 Axes>"
      ]
     },
     "metadata": {
      "needs_background": "light"
     },
     "output_type": "display_data"
    }
   ],
   "source": [
    "save_lplq.plot_misfit_curves()"
   ]
  },
  {
   "cell_type": "code",
   "execution_count": 21,
   "metadata": {},
   "outputs": [],
   "source": [
    "# save_lplq.plot_tikhonov_curves()"
   ]
  }
 ],
 "metadata": {
  "kernelspec": {
   "display_name": "Python 3",
   "language": "python",
   "name": "python3"
  },
  "language_info": {
   "codemirror_mode": {
    "name": "ipython",
    "version": 3
   },
   "file_extension": ".py",
   "mimetype": "text/x-python",
   "name": "python",
   "nbconvert_exporter": "python",
   "pygments_lexer": "ipython3",
   "version": "3.7.2"
  }
 },
 "nbformat": 4,
 "nbformat_minor": 2
}
