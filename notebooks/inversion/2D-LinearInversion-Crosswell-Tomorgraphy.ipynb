{
 "cells": [
  {
   "cell_type": "markdown",
   "metadata": {},
   "source": [
    "# 2D Linear Inversion of Crosswell Tomography Data"
   ]
  },
  {
   "cell_type": "code",
   "execution_count": 13,
   "metadata": {},
   "outputs": [],
   "source": [
    "import numpy as np\n",
    "from geoscilabs.inversion.TomographyInversion import TomographyInversionApp\n",
    "import matplotlib.pyplot as plt\n",
    "from ipywidgets import interact, IntSlider\n",
    "%matplotlib inline\n",
    "app = TomographyInversionApp()"
   ]
  },
  {
   "cell_type": "markdown",
   "metadata": {},
   "source": [
    "# Purpose\n",
    "\n",
    "From the Linear inversion notebook (1D), we learned important apsects about the linear inversion. \n",
    "However, real world geophysical inverse problem are not often 1D, but multidimensional (2D or 3D), and this extension of dimension allows us to put more apriori (or geologic) information through the regularization term. \n",
    "In this notebook, we explore these multidimensional aspects of the linear inversion by using 2D traveltime croswell tomography example. \n",
    "\n",
    "## Outline\n",
    "This notebook includes four steps:\n",
    "- Step1: Generate a velocity model\n",
    "- Step2: Simulate traveltime data and add noise\n",
    "- Step3: Run Smooth inversion\n",
    "- Step4: Run LpLq inversion"
   ]
  },
  {
   "cell_type": "markdown",
   "metadata": {},
   "source": [
    "## Step1: Generate a velocity model\n",
    "\n",
    "- `v0`: velocity of the background\n",
    "- `v1`: velocity of the block\n",
    "- `xc`: x center of the block\n",
    "- `yc`: y center of the block\n",
    "- `dx`: width of the block\n",
    "- `dy`: thickness of the block\n",
    "- `add block`: use active when you want to add block (if not stay inactive)\n",
    "- `model type`: background or block"
   ]
  },
  {
   "cell_type": "code",
   "execution_count": 14,
   "metadata": {},
   "outputs": [
    {
     "data": {
      "application/vnd.jupyter.widget-view+json": {
       "model_id": "1e6fae1e615f4d8ba016e14e90525c2b",
       "version_major": 2,
       "version_minor": 0
      },
      "text/plain": [
       "HBox(children=(VBox(children=(FloatSlider(value=1000.0, continuous_update=False, description='v0', max=3000.0,…"
      ]
     },
     "metadata": {},
     "output_type": "display_data"
    }
   ],
   "source": [
    "app.interact_plot_model()"
   ]
  },
  {
   "cell_type": "markdown",
   "metadata": {},
   "source": [
    "## Step2: Simulate travel time data and add noise"
   ]
  },
  {
   "cell_type": "code",
   "execution_count": 15,
   "metadata": {},
   "outputs": [
    {
     "data": {
      "application/vnd.jupyter.widget-view+json": {
       "model_id": "1d27640dc5744977a18fa6241e24bb90",
       "version_major": 2,
       "version_minor": 0
      },
      "text/plain": [
       "HBox(children=(Output(), Box(children=(Box(children=(BoundedFloatText(value=5.0, description='percent ($\\\\%$):…"
      ]
     },
     "metadata": {},
     "output_type": "display_data"
    }
   ],
   "source": [
    "app.interact_data()"
   ]
  },
  {
   "cell_type": "markdown",
   "metadata": {},
   "source": [
    "## Step3: Smooth inversion\n",
    "\n",
    "- `maxIter`: maximum number of iteration\n",
    "- `m0`: initial model\n",
    "- `mref`: reference model\n",
    "- `percentage`: percent standard deviation for the uncertainty\n",
    "- `floor`: floor value for the uncertainty\n",
    "- `chifact`: chifactor for the target misfit\n",
    "- `beta0_ratio`: ratio to set the initial beta\n",
    "- `coolingFactor`: cooling factor to cool beta\n",
    "- `coolingRate`: cooling rate to cool beta\n",
    "- `alpha_s`: $\\alpha_s$\n",
    "- `alpha_x`: $\\alpha_x$\n",
    "- `alpha_z`: $\\alpha_z$\n",
    "- `use_target`: use target misfit as a stopping criteria or not"
   ]
  },
  {
   "cell_type": "markdown",
   "metadata": {},
   "source": [
    "### Step 3-1: Run inversion"
   ]
  },
  {
   "cell_type": "code",
   "execution_count": 16,
   "metadata": {},
   "outputs": [
    {
     "name": "stdout",
     "output_type": "stream",
     "text": [
      "SimPEG.DataMisfit.l2_DataMisfit assigning default std of 5%\n",
      "SimPEG.DataMisfit.l2_DataMisfit assigning default eps of 1e-5 * ||dobs||\n",
      "\n",
      "    SimPEG.InvProblem is setting bfgsH0 to the inverse of the eval2Deriv.\n",
      "    ***Done using same Solver and solverOpts as the problem***\n",
      "SimPEG.SaveOutputEveryIteration will save your inversion progress as: '###-InversionModel-2019-03-11-13-04.txt'\n",
      "model has any nan: 0\n",
      "============================ Inexact Gauss Newton ============================\n",
      "  #     beta     phi_d     phi_m       f      |proj(x-g)-x|  LS    Comment   \n",
      "-----------------------------------------------------------------------------\n",
      "x0 has any nan: 0\n",
      "   0  1.82e+07  8.57e+01  0.00e+00  8.57e+01    8.94e+04      0              \n",
      "   1  9.10e+06  8.41e+01  4.35e-08  8.45e+01    4.40e+04      0              \n",
      "   2  4.55e+06  8.26e+01  1.67e-07  8.33e+01    4.32e+04      0   Skip BFGS  \n",
      "   3  2.28e+06  7.99e+01  6.13e-07  8.12e+01    4.18e+04      0   Skip BFGS  \n",
      "   4  1.14e+06  7.53e+01  2.10e-06  7.77e+01    3.96e+04      0   Skip BFGS  \n",
      "   5  5.69e+05  6.84e+01  6.52e-06  7.21e+01    3.52e+04      0   Skip BFGS  \n",
      "   6  2.84e+05  5.97e+01  1.76e-05  6.48e+01    3.02e+04      0   Skip BFGS  \n",
      "   7  1.42e+05  5.02e+01  4.19e-05  5.61e+01    2.51e+04      0   Skip BFGS  \n",
      "------------------------- STOP! -------------------------\n",
      "1 : |fc-fOld| = 0.0000e+00 <= tolF*(1+|f0|) = 8.6681e+00\n",
      "1 : |xc-x_last| = 2.3699e-04 <= tolX*(1+|x0|) = 1.0200e-01\n",
      "0 : |proj(x-g)-x|    = 2.5090e+04 <= tolG          = 1.0000e-10\n",
      "0 : |proj(x-g)-x|    = 2.5090e+04 <= 1e3*eps       = 1.0000e-07\n",
      "0 : maxIter   =      20    <= iter          =      8\n",
      "------------------------- DONE! -------------------------\n"
     ]
    }
   ],
   "source": [
    "model, pred, save = app.run_inversion(\n",
    "    maxIter=20,\n",
    "    m0=1./1000.,\n",
    "    mref=1./1000.,\n",
    "    percentage=5,\n",
    "    floor=0.001,\n",
    "    chifact=1,\n",
    "    beta0_ratio=1e2,\n",
    "    coolingFactor=2,\n",
    "    coolingRate=1,\n",
    "    alpha_s=1e0,\n",
    "    alpha_x=1e0,\n",
    "    alpha_z=1e0,\n",
    "    use_target=True\n",
    ")"
   ]
  },
  {
   "cell_type": "markdown",
   "metadata": {},
   "source": [
    "### Step 3-2: Plot recovered model"
   ]
  },
  {
   "cell_type": "code",
   "execution_count": 17,
   "metadata": {},
   "outputs": [
    {
     "data": {
      "application/vnd.jupyter.widget-view+json": {
       "model_id": "1c2dc106eea84b2895ecb6903171a9db",
       "version_major": 2,
       "version_minor": 0
      },
      "text/plain": [
       "interactive(children=(IntSlider(value=8, description='ii', max=8), Checkbox(value=False, description='fixed'),…"
      ]
     },
     "metadata": {},
     "output_type": "display_data"
    }
   ],
   "source": [
    "app.interact_model_inversion(model)"
   ]
  },
  {
   "cell_type": "markdown",
   "metadata": {},
   "source": [
    "### Step 3-3: Plot predicted data "
   ]
  },
  {
   "cell_type": "code",
   "execution_count": 18,
   "metadata": {},
   "outputs": [
    {
     "data": {
      "application/vnd.jupyter.widget-view+json": {
       "model_id": "23f5ea790636403da94eee3c7d3752a4",
       "version_major": 2,
       "version_minor": 0
      },
      "text/plain": [
       "interactive(children=(IntSlider(value=8, continuous_update=False, description='ii', max=8), Checkbox(value=Fal…"
      ]
     },
     "metadata": {},
     "output_type": "display_data"
    }
   ],
   "source": [
    "app.interact_data_inversion(pred)"
   ]
  },
  {
   "cell_type": "markdown",
   "metadata": {},
   "source": [
    "### Step 3-4: Plot misfit curves"
   ]
  },
  {
   "cell_type": "code",
   "execution_count": 19,
   "metadata": {},
   "outputs": [
    {
     "data": {
      "image/png": "[encoded data removed]",
      "text/plain": [
       "<Figure size 360x144 with 2 Axes>"
      ]
     },
     "metadata": {
      "needs_background": "light"
     },
     "output_type": "display_data"
    }
   ],
   "source": [
    "save.plot_misfit_curves()"
   ]
  },
  {
   "cell_type": "markdown",
   "metadata": {},
   "source": [
    "## Step4: Lp-Lq inversion\n",
    "\n",
    "- `maxIter`: maximum number of iteration\n",
    "- `m0`: initial model\n",
    "- `mref`: reference model\n",
    "- `percentage`: percent standard deviation for the uncertainty\n",
    "- `floor`: floor value for the uncertainty\n",
    "- `chifact`: chifactor for the target misfit\n",
    "- `coolingFactor`: cooling factor to cool beta\n",
    "- `coolingRate`: cooling rate to cool beta\n",
    "- `alpha_s`: $\\alpha_s$\n",
    "- `alpha_x`: $\\alpha_x$\n",
    "- `alpha_z`: $\\alpha_z$\n",
    "- `use_lqlq`: use lplq inversion or not\n",
    "- `p`: norm for the smallness\n",
    "- `qx`: norm for the smoothness in x-direction\n",
    "- `qz`: norm for the smoothness in z-direction\n",
    "- `beta_start`: starting beta"
   ]
  },
  {
   "cell_type": "markdown",
   "metadata": {},
   "source": [
    "### Step 4-1: Run inversion"
   ]
  },
  {
   "cell_type": "code",
   "execution_count": 20,
   "metadata": {},
   "outputs": [
    {
     "name": "stdout",
     "output_type": "stream",
     "text": [
      "SimPEG.DataMisfit.l2_DataMisfit assigning default std of 5%\n",
      "SimPEG.DataMisfit.l2_DataMisfit assigning default eps of 1e-5 * ||dobs||\n",
      "\n",
      "    SimPEG.InvProblem is setting bfgsH0 to the inverse of the eval2Deriv.\n",
      "    ***Done using same Solver and solverOpts as the problem***\n",
      "SimPEG.SaveOutputEveryIteration will save your inversion progress as: '###-InversionModel-2019-03-11-13-04.txt'\n",
      "model has any nan: 0\n",
      "============================ Inexact Gauss Newton ============================\n",
      "  #     beta     phi_d     phi_m       f      |proj(x-g)-x|  LS    Comment   \n",
      "-----------------------------------------------------------------------------\n",
      "x0 has any nan: 0\n",
      "   0  7.00e+04  4.03e+01  9.17e-05  4.67e+01    2.02e+04      0              \n",
      "Reached starting chifact with l2-norm regularization: Start IRLS steps...\n",
      "eps_p: 0.00026385835656512796 eps_q: 0.00026385835656512796\n",
      "delta phim: 0.000e+00\n",
      "   1  3.50e+04  3.04e+01  2.73e-04  4.00e+01    1.19e+04      0              \n",
      "Beta search step\n",
      "   1  7.09e+04  3.04e+01  2.73e-04  4.98e+01    1.46e+04      0   Skip BFGS  \n",
      "delta phim: 1.881e+07\n",
      "   2  7.09e+04  3.41e+01  2.26e-04  5.02e+01    6.70e+03      0              \n",
      "delta phim: 4.222e-02\n",
      "   3  7.09e+04  3.54e+01  2.24e-04  5.13e+01    7.78e+03      0   Skip BFGS  \n",
      "delta phim: 2.163e-01\n",
      "   4  7.09e+04  3.64e+01  2.18e-04  5.19e+01    8.59e+03      0              \n",
      "delta phim: 1.617e-01\n",
      "   5  7.09e+04  3.66e+01  2.22e-04  5.24e+01    1.22e+04      0              \n",
      "delta phim: 1.449e-01\n",
      "   6  7.09e+04  3.64e+01  2.24e-04  5.23e+01    1.49e+04      0              \n",
      "delta phim: 9.995e-02\n",
      "   7  7.09e+04  3.64e+01  2.20e-04  5.20e+01    1.67e+04      0              \n",
      "delta phim: 5.523e-02\n",
      "   8  7.09e+04  3.64e+01  2.13e-04  5.15e+01    1.75e+04      0              \n",
      "delta phim: 2.856e-02\n",
      "   9  7.09e+04  3.65e+01  2.05e-04  5.10e+01    1.77e+04      0              \n",
      "delta phim: 1.449e-02\n",
      "  10  7.09e+04  3.66e+01  1.96e-04  5.06e+01    1.77e+04      0              \n",
      "delta phim: 7.489e-03\n",
      "  11  7.09e+04  3.68e+01  1.89e-04  5.02e+01    1.72e+04      0   Skip BFGS  \n",
      "delta phim: 5.513e-03\n",
      "  12  7.09e+04  3.69e+01  1.84e-04  5.00e+01    1.73e+04      0   Skip BFGS  \n",
      "delta phim: 1.022e-02\n",
      "  13  7.09e+04  3.70e+01  1.80e-04  4.98e+01    1.72e+04      0   Skip BFGS  \n",
      "delta phim: 6.293e-03\n",
      "  14  7.09e+04  3.71e+01  1.75e-04  4.96e+01    1.71e+04      0              \n",
      "delta phim: 1.123e-02\n",
      "  15  7.09e+04  3.72e+01  1.70e-04  4.93e+01    1.63e+04      0              \n",
      "delta phim: 6.611e-04\n",
      "  16  7.09e+04  3.72e+01  1.67e-04  4.91e+01    1.63e+04      0              \n",
      "delta phim: 8.606e-03\n",
      "  17  7.09e+04  3.78e+01  1.55e-04  4.88e+01    1.15e+04      0              \n",
      "delta phim: 4.793e-02\n",
      "  18  7.09e+04  3.80e+01  1.51e-04  4.87e+01    1.18e+04      0   Skip BFGS  \n",
      "delta phim: 1.169e-02\n",
      "  19  7.09e+04  3.81e+01  1.49e-04  4.87e+01    1.24e+04      0              \n",
      "delta phim: 5.898e-03\n",
      "  20  7.09e+04  3.81e+01  1.48e-04  4.86e+01    1.34e+04      0              \n",
      "------------------------- STOP! -------------------------\n",
      "1 : |fc-fOld| = 8.3663e-02 <= tolF*(1+|f0|) = 4.7735e+00\n",
      "1 : |xc-x_last| = 1.6053e-05 <= tolX*(1+|x0|) = 1.0197e-01\n",
      "0 : |proj(x-g)-x|    = 1.3432e+04 <= tolG          = 1.0000e-10\n",
      "0 : |proj(x-g)-x|    = 1.3432e+04 <= 1e3*eps       = 1.0000e-07\n",
      "1 : maxIter   =      20    <= iter          =     20\n",
      "------------------------- DONE! -------------------------\n"
     ]
    }
   ],
   "source": [
    "model_lplq, pred_lplq, save_lplq = app.run_inversion(\n",
    "    maxIter=20,\n",
    "    m0=model[-1],\n",
    "    mref=1./1000.,\n",
    "    percentage=5,\n",
    "    floor=0.001,\n",
    "    chifact=1,\n",
    "    coolingFactor=2,\n",
    "    coolingRate=1,\n",
    "    alpha_s=1e0,\n",
    "    alpha_x=1e0,\n",
    "    alpha_z=1e0,\n",
    "    use_lplq=True,\n",
    "    p=0,\n",
    "    qx=2,\n",
    "    qz=2,\n",
    "    beta_start=7e4\n",
    ")"
   ]
  },
  {
   "cell_type": "markdown",
   "metadata": {},
   "source": [
    "### Step 4-2: Plot recovered model"
   ]
  },
  {
   "cell_type": "code",
   "execution_count": 21,
   "metadata": {},
   "outputs": [
    {
     "data": {
      "application/vnd.jupyter.widget-view+json": {
       "model_id": "3defab96626044a184b280df6f595d6a",
       "version_major": 2,
       "version_minor": 0
      },
      "text/plain": [
       "interactive(children=(IntSlider(value=21, description='ii', max=21), Checkbox(value=False, description='fixed'…"
      ]
     },
     "metadata": {},
     "output_type": "display_data"
    }
   ],
   "source": [
    "app.interact_model_inversion(model_lplq)"
   ]
  },
  {
   "cell_type": "markdown",
   "metadata": {},
   "source": [
    "### Step 4-3: Plot predicted data"
   ]
  },
  {
   "cell_type": "code",
   "execution_count": 22,
   "metadata": {},
   "outputs": [
    {
     "data": {
      "application/vnd.jupyter.widget-view+json": {
       "model_id": "07c11e2840cc48aaa9a615e188bc7f60",
       "version_major": 2,
       "version_minor": 0
      },
      "text/plain": [
       "interactive(children=(IntSlider(value=21, continuous_update=False, description='ii', max=21), Checkbox(value=F…"
      ]
     },
     "metadata": {},
     "output_type": "display_data"
    }
   ],
   "source": [
    "app.interact_data_inversion(pred_lplq)"
   ]
  },
  {
   "cell_type": "markdown",
   "metadata": {},
   "source": [
    "### Step 4-4: Plot misfit curves"
   ]
  },
  {
   "cell_type": "code",
   "execution_count": 23,
   "metadata": {},
   "outputs": [
    {
     "data": {
      "image/png": "[encoded data removed]",
      "text/plain": [
       "<Figure size 360x144 with 2 Axes>"
      ]
     },
     "metadata": {
      "needs_background": "light"
     },
     "output_type": "display_data"
    }
   ],
   "source": [
    "save_lplq.plot_misfit_curves()"
   ]
  },
  {
   "cell_type": "code",
   "execution_count": 12,
   "metadata": {},
   "outputs": [],
   "source": [
    "# save_lplq.plot_tikhonov_curves()"
   ]
  }
 ],
 "metadata": {
  "kernelspec": {
   "display_name": "Python 3",
   "language": "python",
   "name": "python3"
  },
  "language_info": {
   "codemirror_mode": {
    "name": "ipython",
    "version": 3
   },
   "file_extension": ".py",
   "mimetype": "text/x-python",
   "name": "python",
   "nbconvert_exporter": "python",
   "pygments_lexer": "ipython3",
   "version": "3.7.2"
  }
 },
 "nbformat": 4,
 "nbformat_minor": 2
}
