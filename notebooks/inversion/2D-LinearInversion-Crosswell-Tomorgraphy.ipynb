{
 "cells": [
  {
   "cell_type": "markdown",
   "metadata": {},
   "source": [
    "# 2D Linear Inversion of Crosswell Tomography Data"
   ]
  },
  {
   "cell_type": "code",
   "execution_count": 1,
   "metadata": {},
   "outputs": [],
   "source": [
    "import numpy as np\n",
    "from geoscilabs.inversion.TomographyInversion import TomographyInversionApp\n",
    "import matplotlib.pyplot as plt\n",
    "from ipywidgets import interact, IntSlider\n",
    "%matplotlib inline\n",
    "app = TomographyInversionApp()"
   ]
  },
  {
   "cell_type": "markdown",
   "metadata": {},
   "source": [
    "# Purpose\n",
    "\n",
    "From the Linear inversion notebook (1D), we learned important apsects about the linear inversion. \n",
    "However, real world geophysical inverse problem are not often 1D, but multidimensional (2D or 3D), and this extension of dimension allows us to put more apriori (or geologic) information through the regularization term. \n",
    "In this notebook, we explore these multidimensional aspects of the linear inversion by using 2D traveltime croswell tomography example. \n",
    "\n",
    "## Outline\n",
    "This notebook includes four steps:\n",
    "- Step1: Generate a velocity model\n",
    "- Step2: Simulate traveltime data and add noise\n",
    "- Step3: Run Smooth inversion\n",
    "- Step4: Run LpLq inversion"
   ]
  },
  {
   "cell_type": "markdown",
   "metadata": {},
   "source": [
    "## Step1: Generate a velocity model\n",
    "\n",
    "- `v0`: velocity of the background\n",
    "- `v1`: velocity of the block\n",
    "- `xc`: x center of the block\n",
    "- `yc`: y center of the block\n",
    "- `dx`: width of the block\n",
    "- `dy`: thickness of the block\n",
    "- `add block`: use active when you want to add block (if not stay inactive)\n",
    "- `model type`: background or block"
   ]
  },
  {
   "cell_type": "code",
   "execution_count": 2,
   "metadata": {},
   "outputs": [
    {
     "data": {
      "application/vnd.jupyter.widget-view+json": {
       "model_id": "60adac4cf1c34a37909fd400f709de99",
       "version_major": 2,
       "version_minor": 0
      },
      "text/plain": [
       "HBox(children=(VBox(children=(FloatSlider(value=1000.0, continuous_update=False, description='v0', max=3000.0,…"
      ]
     },
     "metadata": {},
     "output_type": "display_data"
    }
   ],
   "source": [
    "app.interact_plot_model()"
   ]
  },
  {
   "cell_type": "markdown",
   "metadata": {},
   "source": [
    "## Step2: Simulate travel time data and add noise"
   ]
  },
  {
   "cell_type": "code",
   "execution_count": 3,
   "metadata": {},
   "outputs": [
    {
     "data": {
      "application/vnd.jupyter.widget-view+json": {
       "model_id": "0bf19a243a054e2d88458ec91614899b",
       "version_major": 2,
       "version_minor": 0
      },
      "text/plain": [
       "HBox(children=(Output(), Box(children=(Box(children=(BoundedFloatText(value=0.0, description='percent ($\\\\%$):…"
      ]
     },
     "metadata": {},
     "output_type": "display_data"
    }
   ],
   "source": [
    "app.interact_data()"
   ]
  },
  {
   "cell_type": "markdown",
   "metadata": {},
   "source": [
    "## Step3: Smooth inversion\n",
    "\n",
    "- `maxIter`: maximum number of iteration\n",
    "- `m0`: initial model\n",
    "- `mref`: reference model\n",
    "- `percentage`: percent standard deviation for the uncertainty\n",
    "- `floor`: floor value for the uncertainty\n",
    "- `chifact`: chifactor for the target misfit\n",
    "- `beta0_ratio`: ratio to set the initial beta\n",
    "- `coolingFactor`: cooling factor to cool beta\n",
    "- `coolingRate`: cooling rate to cool beta\n",
    "- `alpha_s`: $\\alpha_s$\n",
    "- `alpha_x`: $\\alpha_x$\n",
    "- `alpha_z`: $\\alpha_z$\n",
    "- `use_target`: use target misfit as a stopping criteria or not"
   ]
  },
  {
   "cell_type": "markdown",
   "metadata": {},
   "source": [
    "### Step 3-1: Run inversion"
   ]
  },
  {
   "cell_type": "code",
   "execution_count": 4,
   "metadata": {},
   "outputs": [
    {
     "name": "stdout",
     "output_type": "stream",
     "text": [
      "SimPEG.DataMisfit.l2_DataMisfit assigning default std of 5%\n",
      "SimPEG.DataMisfit.l2_DataMisfit assigning default eps of 1e-5 * ||dobs||\n",
      "\n",
      "    SimPEG.InvProblem is setting bfgsH0 to the inverse of the eval2Deriv.\n",
      "    ***Done using same Solver and solverOpts as the problem***\n",
      "SimPEG.SaveOutputEveryIteration will save your inversion progress as: '###-InversionModel-2019-03-11-15-52.txt'\n",
      "model has any nan: 0\n",
      "============================ Inexact Gauss Newton ============================\n",
      "  #     beta     phi_d     phi_m       f      |proj(x-g)-x|  LS    Comment   \n",
      "-----------------------------------------------------------------------------\n",
      "x0 has any nan: 0\n",
      "   0  7.27e+07  1.05e+02  0.00e+00  1.05e+02    1.42e+05      0              \n",
      "   1  3.63e+07  8.57e+01  8.51e-08  8.88e+01    5.13e+04      0              \n",
      "   2  1.82e+07  8.19e+01  1.61e-07  8.48e+01    4.65e+04      0   Skip BFGS  \n",
      "   3  9.09e+06  7.86e+01  2.90e-07  8.12e+01    4.35e+04      0   Skip BFGS  \n",
      "   4  4.54e+06  7.49e+01  5.84e-07  7.76e+01    3.97e+04      0   Skip BFGS  \n",
      "   5  2.27e+06  7.02e+01  1.34e-06  7.33e+01    3.62e+04      0   Skip BFGS  \n",
      "   6  1.14e+06  6.44e+01  3.21e-06  6.80e+01    3.32e+04      0   Skip BFGS  \n",
      "   7  5.68e+05  5.76e+01  7.53e-06  6.19e+01    2.96e+04      0   Skip BFGS  \n",
      "   8  2.84e+05  5.02e+01  1.70e-05  5.50e+01    2.53e+04      0   Skip BFGS  \n",
      "------------------------- STOP! -------------------------\n",
      "1 : |fc-fOld| = 0.0000e+00 <= tolF*(1+|f0|) = 1.0576e+01\n",
      "1 : |xc-x_last| = 2.1377e-04 <= tolX*(1+|x0|) = 1.0200e-01\n",
      "0 : |proj(x-g)-x|    = 2.5316e+04 <= tolG          = 1.0000e-10\n",
      "0 : |proj(x-g)-x|    = 2.5316e+04 <= 1e3*eps       = 1.0000e-07\n",
      "0 : maxIter   =      20    <= iter          =      9\n",
      "------------------------- DONE! -------------------------\n"
     ]
    }
   ],
   "source": [
    "model, pred, save = app.run_inversion(\n",
    "    maxIter=20,\n",
    "    m0=1./1000.,\n",
    "    mref=1./1000.,\n",
    "    percentage=0,\n",
    "    floor=0.01,\n",
    "    chifact=1,\n",
    "    beta0_ratio=1e2,\n",
    "    coolingFactor=2,\n",
    "    coolingRate=1,\n",
    "    alpha_s=1e-2,\n",
    "    alpha_x=1e0,\n",
    "    alpha_z=1e0,\n",
    "    use_target=True\n",
    ")"
   ]
  },
  {
   "cell_type": "markdown",
   "metadata": {},
   "source": [
    "### Step 3-2: Plot recovered model"
   ]
  },
  {
   "cell_type": "code",
   "execution_count": 5,
   "metadata": {},
   "outputs": [
    {
     "data": {
      "application/vnd.jupyter.widget-view+json": {
       "model_id": "942abd0e952d499d81c052a92d8db964",
       "version_major": 2,
       "version_minor": 0
      },
      "text/plain": [
       "interactive(children=(IntSlider(value=9, description='ii', max=9), Checkbox(value=False, description='fixed'),…"
      ]
     },
     "metadata": {},
     "output_type": "display_data"
    }
   ],
   "source": [
    "app.interact_model_inversion(model)"
   ]
  },
  {
   "cell_type": "markdown",
   "metadata": {},
   "source": [
    "### Step 3-3: Plot predicted data "
   ]
  },
  {
   "cell_type": "code",
   "execution_count": 6,
   "metadata": {},
   "outputs": [
    {
     "data": {
      "application/vnd.jupyter.widget-view+json": {
       "model_id": "4fbadc441fb34fb196b7a23f7ba441a8",
       "version_major": 2,
       "version_minor": 0
      },
      "text/plain": [
       "interactive(children=(IntSlider(value=9, continuous_update=False, description='ii', max=9), Checkbox(value=Fal…"
      ]
     },
     "metadata": {},
     "output_type": "display_data"
    }
   ],
   "source": [
    "app.interact_data_inversion(pred)"
   ]
  },
  {
   "cell_type": "markdown",
   "metadata": {},
   "source": [
    "### Step 3-4: Plot misfit curves"
   ]
  },
  {
   "cell_type": "code",
   "execution_count": 7,
   "metadata": {},
   "outputs": [
    {
     "data": {
      "image/png": "[encoded data removed]",
      "text/plain": [
       "<Figure size 360x144 with 2 Axes>"
      ]
     },
     "metadata": {
      "needs_background": "light"
     },
     "output_type": "display_data"
    }
   ],
   "source": [
    "save.plot_misfit_curves()"
   ]
  },
  {
   "cell_type": "markdown",
   "metadata": {},
   "source": [
    "## Step4: Lp-Lq inversion\n",
    "\n",
    "- `maxIter`: maximum number of iteration\n",
    "- `m0`: initial model\n",
    "- `mref`: reference model\n",
    "- `percentage`: percent standard deviation for the uncertainty\n",
    "- `floor`: floor value for the uncertainty\n",
    "- `chifact`: chifactor for the target misfit\n",
    "- `coolingFactor`: cooling factor to cool beta\n",
    "- `coolingRate`: cooling rate to cool beta\n",
    "- `alpha_s`: $\\alpha_s$\n",
    "- `alpha_x`: $\\alpha_x$\n",
    "- `alpha_z`: $\\alpha_z$\n",
    "- `use_lqlq`: use lplq inversion or not\n",
    "- `p`: norm for the smallness\n",
    "- `qx`: norm for the smoothness in x-direction\n",
    "- `qz`: norm for the smoothness in z-direction\n",
    "- `beta_start`: starting beta"
   ]
  },
  {
   "cell_type": "markdown",
   "metadata": {},
   "source": [
    "### Step 4-1: Run inversion"
   ]
  },
  {
   "cell_type": "code",
   "execution_count": 8,
   "metadata": {},
   "outputs": [
    {
     "name": "stdout",
     "output_type": "stream",
     "text": [
      "SimPEG.DataMisfit.l2_DataMisfit assigning default std of 5%\n",
      "SimPEG.DataMisfit.l2_DataMisfit assigning default eps of 1e-5 * ||dobs||\n",
      "\n",
      "    SimPEG.InvProblem is setting bfgsH0 to the inverse of the eval2Deriv.\n",
      "    ***Done using same Solver and solverOpts as the problem***\n",
      "SimPEG.SaveOutputEveryIteration will save your inversion progress as: '###-InversionModel-2019-03-11-15-52.txt'\n",
      "model has any nan: 0\n",
      "============================ Inexact Gauss Newton ============================\n",
      "  #     beta     phi_d     phi_m       f      |proj(x-g)-x|  LS    Comment   \n",
      "-----------------------------------------------------------------------------\n",
      "x0 has any nan: 0\n",
      "   0  1.40e+05  4.25e+01  1.12e-04  5.81e+01    2.24e+04      0              \n"
     ]
    },
    {
     "name": "stderr",
     "output_type": "stream",
     "text": [
      "/Users/sgkang/Projects/simpeg/SimPEG/Directives.py:935: UserWarning: Without a Linear preconditioner, convergence may be slow. Consider adding `Directives.UpdatePreconditioner` to your directives list\n",
      "  \"Without a Linear preconditioner, convergence may be slow. \"\n"
     ]
    },
    {
     "name": "stdout",
     "output_type": "stream",
     "text": [
      "Reached starting chifact with l2-norm regularization: Start IRLS steps...\n",
      "eps_p: 0.0001776081487382178 eps_q: 0.0001776081487382178\n",
      "delta phim: 0.000e+00\n",
      "   1  7.00e+04  4.12e+01  1.51e-04  5.18e+01    1.78e+04      0              \n",
      "delta phim: 1.907e+07\n",
      "   2  7.00e+04  3.42e+01  2.66e-04  5.28e+01    1.33e+04      0              \n",
      "delta phim: 5.404e-01\n",
      "   3  7.00e+04  3.65e+01  2.40e-04  5.34e+01    9.86e+03      0              \n",
      "delta phim: 5.283e-02\n",
      "   4  7.00e+04  3.82e+01  2.22e-04  5.38e+01    9.17e+03      0   Skip BFGS  \n",
      "delta phim: 1.070e-01\n",
      "   5  7.00e+04  3.96e+01  2.05e-04  5.39e+01    9.57e+03      0   Skip BFGS  \n",
      "delta phim: 1.117e-01\n",
      "   6  7.00e+04  4.07e+01  1.88e-04  5.39e+01    1.05e+04      0   Skip BFGS  \n",
      "delta phim: 1.072e-01\n",
      "   7  7.00e+04  4.17e+01  1.73e-04  5.38e+01    1.16e+04      0              \n",
      "delta phim: 1.004e-01\n",
      "   8  7.00e+04  4.18e+01  1.68e-04  5.36e+01    1.54e+04      0              \n",
      "delta phim: 1.719e-01\n",
      "   9  7.00e+04  4.29e+01  1.51e-04  5.35e+01    1.46e+04      0              \n",
      "delta phim: 3.433e-02\n",
      "  10  7.00e+04  4.36e+01  1.40e-04  5.34e+01    1.59e+04      0   Skip BFGS  \n",
      "delta phim: 6.442e-02\n",
      "  11  7.00e+04  4.41e+01  1.32e-04  5.33e+01    1.76e+04      0   Skip BFGS  \n",
      "delta phim: 6.683e-02\n",
      "  12  7.00e+04  4.44e+01  1.26e-04  5.32e+01    1.94e+04      0              \n",
      "delta phim: 5.919e-02\n",
      "  13  7.00e+04  4.43e+01  1.23e-04  5.30e+01    2.33e+04      0              \n",
      "delta phim: 1.111e-01\n",
      "  14  7.00e+04  4.47e+01  1.17e-04  5.29e+01    2.40e+04      0              \n",
      "delta phim: 3.203e-02\n",
      "  15  7.00e+04  4.49e+01  1.13e-04  5.28e+01    2.52e+04      0              \n",
      "delta phim: 2.889e-02\n",
      "  16  7.00e+04  4.50e+01  1.10e-04  5.27e+01    2.74e+04      0   Skip BFGS  \n",
      "delta phim: 4.217e-02\n",
      "  17  7.00e+04  4.50e+01  1.08e-04  5.26e+01    3.03e+04      0              \n",
      "delta phim: 6.633e-02\n",
      "  18  7.00e+04  4.51e+01  1.05e-04  5.24e+01    3.07e+04      0              \n",
      "delta phim: 3.144e-02\n",
      "  19  7.00e+04  4.48e+01  1.07e-04  5.23e+01    3.32e+04      0              \n",
      "delta phim: 2.428e-02\n",
      "  20  7.00e+04  4.47e+01  1.08e-04  5.22e+01    3.76e+04      0   Skip BFGS  \n",
      "delta phim: 7.601e-02\n",
      "  21  7.00e+04  4.47e+01  1.08e-04  5.22e+01    3.87e+04      0              \n",
      "delta phim: 2.455e-02\n",
      "  22  7.00e+04  4.46e+01  1.08e-04  5.22e+01    4.13e+04      0              \n",
      "delta phim: 4.324e-02\n",
      "  23  7.00e+04  4.31e+01  1.21e-04  5.16e+01    4.74e+04      0              \n",
      "delta phim: 1.293e-01\n",
      "  24  7.00e+04  4.28e+01  1.24e-04  5.15e+01    4.25e+04      0   Skip BFGS  \n",
      "delta phim: 9.546e-02\n",
      "  25  7.00e+04  4.28e+01  1.23e-04  5.14e+01    4.36e+04      0              \n",
      "delta phim: 1.475e-02\n",
      "  26  7.00e+04  4.24e+01  1.25e-04  5.12e+01    4.49e+04      0              \n",
      "delta phim: 5.534e-02\n",
      "  27  7.00e+04  4.18e+01  1.31e-04  5.10e+01    5.91e+04      0   Skip BFGS  \n",
      "delta phim: 2.497e-01\n",
      "  28  7.00e+04  4.18e+01  1.29e-04  5.08e+01    5.69e+04      0              \n",
      "delta phim: 6.490e-03\n",
      "  29  7.00e+04  4.13e+01  1.32e-04  5.05e+01    6.88e+04      0   Skip BFGS  \n",
      "delta phim: 1.099e-02\n",
      "  30  7.00e+04  4.08e+01  1.35e-04  5.03e+01    6.98e+04      0   Skip BFGS  \n",
      "------------------------- STOP! -------------------------\n",
      "1 : |fc-fOld| = 2.3777e-01 <= tolF*(1+|f0|) = 5.9143e+00\n",
      "1 : |xc-x_last| = 3.8627e-05 <= tolX*(1+|x0|) = 1.0198e-01\n",
      "0 : |proj(x-g)-x|    = 6.9829e+04 <= tolG          = 1.0000e-10\n",
      "0 : |proj(x-g)-x|    = 6.9829e+04 <= 1e3*eps       = 1.0000e-07\n",
      "1 : maxIter   =      30    <= iter          =     30\n",
      "------------------------- DONE! -------------------------\n"
     ]
    }
   ],
   "source": [
    "model_lplq, pred_lplq, save_lplq = app.run_inversion(\n",
    "    maxIter=30,\n",
    "    m0=model[-1],\n",
    "    mref=1./1000.,\n",
    "    percentage=0.,\n",
    "    floor=0.01,\n",
    "    chifact=1,\n",
    "    coolingFactor=2,\n",
    "    coolingRate=1,\n",
    "    alpha_s=1e0,\n",
    "    alpha_x=1e0,\n",
    "    alpha_z=1e0,\n",
    "    use_lplq=True,\n",
    "    p=0,\n",
    "    qx=2,\n",
    "    qz=2,\n",
    "    beta_start=1.4e5\n",
    ")"
   ]
  },
  {
   "cell_type": "markdown",
   "metadata": {},
   "source": [
    "### Step 4-2: Plot recovered model"
   ]
  },
  {
   "cell_type": "code",
   "execution_count": 10,
   "metadata": {},
   "outputs": [
    {
     "data": {
      "application/vnd.jupyter.widget-view+json": {
       "model_id": "7d30f732f26849998b22b3083aa1015e",
       "version_major": 2,
       "version_minor": 0
      },
      "text/plain": [
       "interactive(children=(IntSlider(value=30, description='ii', max=30), Checkbox(value=False, description='fixed'…"
      ]
     },
     "metadata": {},
     "output_type": "display_data"
    }
   ],
   "source": [
    "app.interact_model_inversion(model_lplq)"
   ]
  },
  {
   "cell_type": "markdown",
   "metadata": {},
   "source": [
    "### Step 4-3: Plot predicted data"
   ]
  },
  {
   "cell_type": "code",
   "execution_count": 11,
   "metadata": {},
   "outputs": [
    {
     "data": {
      "application/vnd.jupyter.widget-view+json": {
       "model_id": "18f038f5303846c8ab1a63a1e14afe9c",
       "version_major": 2,
       "version_minor": 0
      },
      "text/plain": [
       "interactive(children=(IntSlider(value=30, continuous_update=False, description='ii', max=30), Checkbox(value=F…"
      ]
     },
     "metadata": {},
     "output_type": "display_data"
    }
   ],
   "source": [
    "app.interact_data_inversion(pred_lplq)"
   ]
  },
  {
   "cell_type": "markdown",
   "metadata": {},
   "source": [
    "### Step 4-4: Plot misfit curves"
   ]
  },
  {
   "cell_type": "code",
   "execution_count": 12,
   "metadata": {},
   "outputs": [
    {
     "data": {
      "image/png": "[encoded data removed]",
      "text/plain": [
       "<Figure size 360x144 with 2 Axes>"
      ]
     },
     "metadata": {
      "needs_background": "light"
     },
     "output_type": "display_data"
    }
   ],
   "source": [
    "save_lplq.plot_misfit_curves()"
   ]
  },
  {
   "cell_type": "code",
   "execution_count": 13,
   "metadata": {},
   "outputs": [],
   "source": [
    "# save_lplq.plot_tikhonov_curves()"
   ]
  }
 ],
 "metadata": {
  "kernelspec": {
   "display_name": "Python 3",
   "language": "python",
   "name": "python3"
  },
  "language_info": {
   "codemirror_mode": {
    "name": "ipython",
    "version": 3
   },
   "file_extension": ".py",
   "mimetype": "text/x-python",
   "name": "python",
   "nbconvert_exporter": "python",
   "pygments_lexer": "ipython3",
   "version": "3.7.2"
  }
 },
 "nbformat": 4,
 "nbformat_minor": 2
}
