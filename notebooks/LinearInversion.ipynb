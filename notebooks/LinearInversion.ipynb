{
 "cells": [
  {
   "cell_type": "code",
   "execution_count": 1,
   "metadata": {},
   "outputs": [],
   "source": [
    "from em_examples.LinearInversion import *\n",
    "from ipywidgets import interact, FloatSlider, ToggleButtons, IntSlider, FloatText, IntText"
   ]
  },
  {
   "cell_type": "code",
   "execution_count": 2,
   "metadata": {},
   "outputs": [],
   "source": [
    "app = LinearInversionApp()"
   ]
  },
  {
   "cell_type": "markdown",
   "metadata": {},
   "source": [
    "# Linear Inversion App\n",
    "\n",
    "This app is based upon the inversion tutorial: \"INVERSION FOR APPLIED GEOPHYSICS\" by Oldenburg and Li (2005).\n",
    "\n",
    "Douglas W. Oldenburg and Yaoguo Li (2005) 5. Inversion for Applied Geophysics: A Tutorial. Near-Surface Geophysics: pp. 89-150.\n",
    "eISBN: 978-1-56080-171-9 \n",
    "print ISBN: 978-1-56080-130-6 \n",
    "https://doi.org/10.1190/1.9781560801719.ch5 \n"
   ]
  },
  {
   "cell_type": "markdown",
   "metadata": {},
   "source": [
    "## Purpose\n",
    "By using a simple decaying and oscillating kernel function, which emulates physics of electromagnetic (EM) survey, we understand basic concepts of inverting EM data. Three main action items that we are going to explore are:\n",
    "\n",
    "- Step1: Generate a sensitivity kernel (or matrix), $\\mathbf{G}$\n",
    "- Step2: Set a model then Simulate data ($\\mathbf{d} = \\mathbf{G}\\mathbf{m}$)\n",
    "- Step3: Invert the data, and explore inversion results"
   ]
  },
  {
   "cell_type": "markdown",
   "metadata": {},
   "source": [
    "## Forward problem\n",
    "\n",
    "In order to emulate EM data, which are often decaying and oscillating, we consider a kernel, $g_j(x)$, for $j$th datum. With a given model $m(x)$, $j$th datum can be computed by solving following integral equation:\n",
    "\n",
    " $$ d_j = \\int_a^{b} g_j(x) m(x) dx $$\n",
    "\n",
    "where \n",
    "\n",
    "$$ g_j(x) = e^{jpx} cos (2 \\pi jqx) $$ \n",
    "\n",
    "By discretizing $g_j(x)$ we obtain"
   ]
  },
  {
   "cell_type": "markdown",
   "metadata": {},
   "source": [
    "$$ \\mathbf{g}_j(\\mathbf{x}) = e^{jp\\mathbf{x}} cos (2 \\pi jq \\mathbf{x})$$\n",
    "\n",
    "where\n",
    "\n",
    "- $\\mathbf{g}_j$: $j$th row vector for the sensitivty matrix ($1 \\times M$)\n",
    "- $\\mathbf{x}$: model location ($1 \\times M$)\n",
    "- $j_k$: k=1, 2, ..., N\n",
    "- $p$: decaying constant (<0)\n",
    "- $q$: oscillating constant (>0)\n",
    "\n",
    "By stacking multiple rows of $\\mathbf{g}_j$, we obtain sensitivity matrix, $\\mathbf{G}$: \n",
    "\n",
    "\\begin{align}\n",
    "    \\mathbf{G} = \n",
    "    \\begin{bmatrix}\n",
    "        \\mathbf{g}_0\\\\\n",
    "        \\vdots\\\\\n",
    "        \\mathbf{g}_{N-1}\n",
    "    \\end{bmatrix}\n",
    "\\end{align}\n",
    "\n",
    "Here, the size of the matrix $\\mathbf{G}$ is $(N \\times M)$. \n",
    "Finally data, $\\mathbf{d}$, can be written as a linear equation:\n",
    "\n",
    "$$ \\mathbf{d} = \\mathbf{G}\\mathbf{m}$$\n",
    "\n",
    "where $\\mathbf{m}$ is an inversion model; this is a column vector ($M \\times 1$). \n",
    "\n",
    "In real measurments, there will be various noises source, and hence observation, $\\mathbf{d}^{obs}$, can be written as \n",
    "\n",
    "$$ \\mathbf{d}^{obs} = \\mathbf{G}\\mathbf{m} + \\mathbf{noise}$$"
   ]
  },
  {
   "cell_type": "markdown",
   "metadata": {},
   "source": [
    "##  Step1: Generate a sensitivity kernel (or matrix), $\\mathbf{G}$\n",
    "\n",
    "By using the following app, we explore each row vector of the sensitivity matrix, $\\mathbf{g}_j$. Parameters of the apps are:\n",
    "\n",
    "- M: # of model parameters\n",
    "- N: # of data\n",
    "- p: decaying constant (<0)\n",
    "- q: oscillating constant (>0)\n",
    "- vmin: maximum limit for y-axis\n",
    "- vmax: minimum limit for y-axis"
   ]
  },
  {
   "cell_type": "code",
   "execution_count": 3,
   "metadata": {},
   "outputs": [
    {
     "data": {
      "application/vnd.jupyter.widget-view+json": {
       "model_id": "c3c37e3d6f1d49ebb8c52290b0e4600a",
       "version_major": 2,
       "version_minor": 0
      },
      "text/html": [
       "<p>Failed to display Jupyter Widget of type <code>interactive</code>.</p>\n",
       "<p>\n",
       "  If you're reading this message in the Jupyter Notebook or JupyterLab Notebook, it may mean\n",
       "  that the widgets JavaScript is still loading. If this message persists, it\n",
       "  likely means that the widgets JavaScript library is either not installed or\n",
       "  not enabled. See the <a href=\"https://ipywidgets.readthedocs.io/en/stable/user_install.html\">Jupyter\n",
       "  Widgets Documentation</a> for setup instructions.\n",
       "</p>\n",
       "<p>\n",
       "  If you're reading this message in another frontend (for example, a static\n",
       "  rendering on GitHub or <a href=\"https://nbviewer.jupyter.org/\">NBViewer</a>),\n",
       "  it may mean that your frontend doesn't currently support widgets.\n",
       "</p>\n"
      ],
      "text/plain": [
       "interactive(children=(IntSlider(value=20, continuous_update=False, description='N', min=1), IntSlider(value=100, continuous_update=False, description='M', min=1), FloatSlider(value=-0.25, continuous_update=False, description='p', max=0.0, min=-1.0, step=0.05), FloatSlider(value=0.25, continuous_update=False, description='q', max=1.0, step=0.05), FloatText(value=1.0, description='j1'), FloatText(value=19.0, description='jn'), FloatText(value=-0.005, description='vmin'), FloatText(value=0.011, description='vmax'), Output()), _dom_classes=('widget-interact',))"
      ]
     },
     "metadata": {},
     "output_type": "display_data"
    }
   ],
   "source": [
    "Q1 = app.interact_plot_G()"
   ]
  },
  {
   "cell_type": "markdown",
   "metadata": {},
   "source": [
    "## Step2: Set a model then Simulate data\n",
    "\n"
   ]
  },
  {
   "cell_type": "markdown",
   "metadata": {},
   "source": [
    "By using the kernel function, we can generate synthetic data. At $j$th datum it can be written as"
   ]
  },
  {
   "cell_type": "markdown",
   "metadata": {},
   "source": [
    "### $$ d_j = \\mathbf{g}_j \\mathbf{m} $$\n",
    "\n",
    "If there are $N$ number of data, these data can be written as a columnvector, $\\mathbf{d}$:\n",
    "\n",
    "\\begin{align}\n",
    "    \\mathbf{d} = \\mathbf{G}\\mathbf{m} = \n",
    "    \\begin{bmatrix}\n",
    "        d_0\\\\\n",
    "        \\vdots\\\\\n",
    "        d_{N-1}\n",
    "    \\end{bmatrix}\n",
    "\\end{align}"
   ]
  },
  {
   "cell_type": "code",
   "execution_count": 4,
   "metadata": {},
   "outputs": [
    {
     "data": {
      "application/vnd.jupyter.widget-view+json": {
       "model_id": "5371fa17284d427fa5d4384f27857d38",
       "version_major": 2,
       "version_minor": 0
      },
      "text/html": [
       "<p>Failed to display Jupyter Widget of type <code>interactive</code>.</p>\n",
       "<p>\n",
       "  If you're reading this message in the Jupyter Notebook or JupyterLab Notebook, it may mean\n",
       "  that the widgets JavaScript is still loading. If this message persists, it\n",
       "  likely means that the widgets JavaScript library is either not installed or\n",
       "  not enabled. See the <a href=\"https://ipywidgets.readthedocs.io/en/stable/user_install.html\">Jupyter\n",
       "  Widgets Documentation</a> for setup instructions.\n",
       "</p>\n",
       "<p>\n",
       "  If you're reading this message in another frontend (for example, a static\n",
       "  rendering on GitHub or <a href=\"https://nbviewer.jupyter.org/\">NBViewer</a>),\n",
       "  it may mean that your frontend doesn't currently support widgets.\n",
       "</p>\n"
      ],
      "text/plain": [
       "interactive(children=(FloatSlider(value=0.0, continuous_update=False, description='m_background', max=2.0, min=-2.0, step=0.05), FloatSlider(value=1.0, continuous_update=False, description='m1', max=2.0, min=-2.0, step=0.05), FloatSlider(value=2.0, continuous_update=False, description='m2', max=2.0, min=-2.0, step=0.05), FloatSlider(value=0.2, continuous_update=False, description='m1_center', max=2.0, min=-2.0, step=0.05), FloatSlider(value=0.2, continuous_update=False, description='dm1', max=0.5, step=0.05), FloatSlider(value=0.75, continuous_update=False, description='m2_center', max=2.0, min=-2.0, step=0.05), FloatSlider(value=0.07, continuous_update=False, description='sigma_2', max=0.1, min=0.01, step=0.01), ToggleButtons(description='option', options=('model', 'data', 'kernel'), value='model'), Checkbox(value=False, description='add_noise'), FloatText(value=0.2, description='percentage'), FloatText(value=0.001, description='floor'), Output()), _dom_classes=('widget-interact',))"
      ]
     },
     "metadata": {},
     "output_type": "display_data"
    }
   ],
   "source": [
    "Q2 = app.interact_plot_model()"
   ]
  },
  {
   "cell_type": "markdown",
   "metadata": {},
   "source": [
    "## Inverse Problem\n",
    "\n",
    "In this turn, we consider an opposite problem called inverse problem: converting observed data ($\\mathbf{d}^{obs}$) to a model ($\\mathbf{m}$). This inverse problem is often formulated as \n",
    "\n",
    "$$\\text{minimize} \\ \\ \\ \\phi(\\mathbf{m}) = \\phi_d(\\mathbf{m}) + \\beta \\phi_m(\\mathbf{m}) $$\n",
    "\n",
    "where \n",
    "\n",
    "- $\\phi_d$: data msifit\n",
    "- $\\phi_m$: model regularization\n",
    "- $\\beta$: trade-off (or tikhonov) parameter\n",
    "\n",
    "Data misfit is defined as \n",
    "\n",
    "$$ \\phi_d = \\Sigma_{j=0}^{N-1}\\Big(\\frac{\\mathbf{g}_j\\mathbf{m}-d^{obs}_j}{\\epsilon_j}\\Big)^2$$\n",
    "\n",
    "where uncertainty at $j$th datum, $\\epsilon_j$ is:\n",
    "\n",
    "$$ \\epsilon_j = \\% |d^{obs}_j| + \\text{floor} $$\n",
    "\n"
   ]
  },
  {
   "cell_type": "markdown",
   "metadata": {},
   "source": [
    "Using Tikhnov-style regularization, model regularization term, $\\phi_m$, can be written as \n",
    "\n",
    "$$ \\phi_m(\\mathbf{m}) = \\alpha_s \\int (\\mathbf{m}-\\mathbf{m}_{ref}) dx + \\alpha_x \\int (\\frac{d \\mathbf{m}}{dx}) dx$$\n",
    "\n",
    "The first and second terms are called smallness (or flateness) and smoothness, repectively. "
   ]
  },
  {
   "cell_type": "markdown",
   "metadata": {},
   "source": [
    "## Step3: Invert the data, and explore inversion results\n",
    "\n"
   ]
  },
  {
   "cell_type": "code",
   "execution_count": 5,
   "metadata": {
    "scrolled": false
   },
   "outputs": [
    {
     "data": {
      "application/vnd.jupyter.widget-view+json": {
       "model_id": "537a5c325bc1489fbdbe37af7c6ab4d9",
       "version_major": 2,
       "version_minor": 0
      },
      "text/html": [
       "<p>Failed to display Jupyter Widget of type <code>interactive</code>.</p>\n",
       "<p>\n",
       "  If you're reading this message in the Jupyter Notebook or JupyterLab Notebook, it may mean\n",
       "  that the widgets JavaScript is still loading. If this message persists, it\n",
       "  likely means that the widgets JavaScript library is either not installed or\n",
       "  not enabled. See the <a href=\"https://ipywidgets.readthedocs.io/en/stable/user_install.html\">Jupyter\n",
       "  Widgets Documentation</a> for setup instructions.\n",
       "</p>\n",
       "<p>\n",
       "  If you're reading this message in another frontend (for example, a static\n",
       "  rendering on GitHub or <a href=\"https://nbviewer.jupyter.org/\">NBViewer</a>),\n",
       "  it may mean that your frontend doesn't currently support widgets.\n",
       "</p>\n"
      ],
      "text/plain": [
       "interactive(children=(IntText(value=20, description='maxIter'), FloatSlider(value=0.0, continuous_update=False, description='m0', max=2.0, min=-2.0, step=0.05), FloatSlider(value=0.0, continuous_update=False, description='mref', max=2.0, min=-2.0, step=0.05), FloatText(value=0.2, description='percentage'), FloatText(value=0.001, description='floor'), FloatText(value=1.0, description='rms'), FloatText(value=100.0, description='beta0_ratio'), FloatSlider(value=2.0, continuous_update=False, description='coolingFactor', max=10.0, min=0.1, step=1.0), IntSlider(value=1, continuous_update=False, description='coolingRate', max=10, min=1), FloatText(value=1.0, description='alpha_s'), FloatText(value=1.0, description='alpha_x'), Checkbox(value=True, description='run'), ToggleButtons(description='option', options=('misfit', 'tikhonov'), value='misfit'), IntSlider(value=0, continuous_update=False, description='i_iteration', max=20), Output()), _dom_classes=('widget-interact',))"
      ]
     },
     "metadata": {},
     "output_type": "display_data"
    }
   ],
   "source": [
    "Q3 = app.interact_plot_inversion()"
   ]
  },
  {
   "cell_type": "code",
   "execution_count": null,
   "metadata": {},
   "outputs": [],
   "source": []
  },
  {
   "cell_type": "code",
   "execution_count": null,
   "metadata": {},
   "outputs": [],
   "source": []
  }
 ],
 "metadata": {
  "kernelspec": {
   "display_name": "Python 3",
   "language": "python",
   "name": "python3"
  },
  "language_info": {
   "codemirror_mode": {
    "name": "ipython",
    "version": 3
   },
   "file_extension": ".py",
   "mimetype": "text/x-python",
   "name": "python",
   "nbconvert_exporter": "python",
   "pygments_lexer": "ipython3",
   "version": "3.6.4"
  }
 },
 "nbformat": 4,
 "nbformat_minor": 2
}
