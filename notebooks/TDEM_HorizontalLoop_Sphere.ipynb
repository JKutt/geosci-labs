{
 "cells": [
  {
   "cell_type": "markdown",
   "metadata": {},
   "source": [
    "# Horizontal Current Loop over a Sphere (time domain)"
   ]
  },
  {
   "cell_type": "code",
   "execution_count": 1,
   "metadata": {},
   "outputs": [
    {
     "name": "stdout",
     "output_type": "stream",
     "text": [
      "Populating the interactive namespace from numpy and matplotlib\n"
     ]
    }
   ],
   "source": [
    "%pylab inline\n",
    "from IPython.display import display\n",
    "from em_examples.TDEMHorizontalLoopCylWidget import TDEMHorizontalLoopCylWidget\n",
    "APP = TDEMHorizontalLoopCylWidget()"
   ]
  },
  {
   "cell_type": "markdown",
   "metadata": {},
   "source": [
    "# Introduction\n",
    "\n",
    "Here, we show the transient fields and fluxes that result from placing a vertical magnetic dipole (VMD) source over an Earth model containing a spherical structure and an overburden layer. The transient response in this case refers to the fields and fluxes that are produced once a long-standing primary magnetic field is removed.\n",
    "\n",
    "There are [two commonly used models](https://em.geosci.xyz/content/maxwell1_fundamentals/dipole_sources_in_homogeneous_media/magnetic_dipole_time/index.html) for describing the VMD source that produces a transient response: 1) as an infinitessimally small bar magnet that experiences a long-standing vertical magnetization which is then instantaneously removed at $t=0$, and 2) as an infinitessimally small horizontal loop of wire carrying a constant current which is then instantaneously shut off at $t=0$ (step-off current waveform).\n",
    "\n",
    "True dipole sources do not exist in nature however they can be approximated in practice. For geophysical applications, we use small current loops to approximate transient VMD sources. These EM sources may be placed on the Earth's surface (ground-based surveys) or flown through the air (airborne surveys). According to the Biot-Savart law, a primary magnetic field is produced whenever there is current in the loop. When the current is shut-off, the sudden change in magnetic flux induces anomalous currents in the Earth which propagate and diffuse over time. The distribution and propagation of the induced currents depends on the subsurface conductivity distribution and how much time has passed since the current in the VMD source was shut off. The induced currents ultimately produce secondary magnetic fields which can be measured by a receiver.\n",
    "\n",
    "In this app, we explore the following:\n",
    "\n",
    "- How do the fields and currents produced by the transient VMD source change over time?\n",
    "- For our geological model, how does changing the dimensions and conductivity of the layer and sphere impact the fields and currents produced by the transient VMD source?\n",
    "- How do the secondary fields measured above the Earth's surface change over time?\n",
    "- For our geological model, how does changing the dimensions and conductivity of the layer and sphere impact secondary fields measured above the Earth's surface?"
   ]
  },
  {
   "cell_type": "markdown",
   "metadata": {},
   "source": [
    "# Setup\n",
    "\n",
    "The geological scenario being modeled is shown in the figure below. Here, the Earth is comprised of a spherical structure and overburden layer within a homogeneous background. Each of the three geological units has its own conductivity ($\\sigma$). However, a constant magnetic susceptibility ($\\chi$) is used for all units; where $\\mu_0$ is the magnetic permeability of free space and $\\mu = \\mu_0 (1 +\\chi)$. The depth to the layer is given by $d_1$ and $h$.\n",
    "\n",
    "In this case, a transient VMD source (*Tx*) is used to excite the Earth, and the Earth's TEM response (secondary magnetic field) is measured by a receiver (*Rx*). In practice, the transmitter and receiver may be placed near the Earth's surface or in the air. The receiver may also measure secondary fields at a variety of times after the source is shut off.\n",
    "\n",
    "To understand the fields and currents resulting from a transient VMD source we have two apps:\n",
    "\n",
    "- **Fields app:** Models the fields and currents everywhere at a particular time after shutoff\n",
    "- **Data app:** Models the secondary magnetic field observed by the receiver as a function of off-time\n",
    "\n",
    "\n",
    "<img src=\"https://github.com/geoscixyz/em_apps/blob/master/images/LayerSphereTEM.png?raw=true\"></img>\n"
   ]
  },
  {
   "cell_type": "markdown",
   "metadata": {},
   "source": [
    "# Exercise\n",
    "\n",
    "**Follow the exercise in a linear fashion. Some questions may use parameters set in a previous question.**\n",
    "\n",
    "- **Q1:** If you have not done so, complete the set of questions from the TDEM_HorizontalLoop_LayeredEarth app using $\\sigma_b = \\sigma_1 = \\sigma_2 = 0.01$ S/m.\n",
    "\n",
    "\n",
    "- **Q1:** Based on the geometry of the problem, which components (x, y, z) of each field (E, B, Bsec or J) are zero? Run the *Fields app* and set *AmpDir* to *None*. Next, try different combinations of *Field* and *Comp*. Does the simulation match what you initially thought?\n",
    "\n",
    "\n",
    "- **Q2:** Re-run the *Fields app* to set parameters back to default. Note that $\\sigma_b = \\sigma_1 = 0.0001$ S/m and $\\sigma_2 = 1$ S/m. Now set *f index = 1* (resistive limit), *Field = J* and *Re/Im = Amp*. Begin to increase *f index* from 1 to 31. Answer the following:\n",
    "\n",
    "\n",
    "\n",
    "\n",
    "- Q1: Run below Field app, and change \"Update\" to \"False\" to explore computed EM fields. Then move the slider bar for \"Time\" to see propagation of induced electric field in time (smoke ring). Describe the propagation of electric field in time. \n",
    "\n",
    "\n",
    "- Q2: Now we want to recognize how this EM propagation in half-space earth was different from that in homogeneous earth, so set $\\sigma_0$ to 0.01 S/m (making $\\sigma_0=\\sigma_1=\\sigma_2=\\sigma_3$ = 0.01 S/m). Note that you should make \"Update\" to \"True\" to update computed EM fields upon your changes, then make it \"False\" to explore. Observe propagation of $E_y$ field in time, what is the main difference? and why that is happening?\n",
    "\n",
    "\n",
    "- Q3: Back to the default half-space model, then similarly set \"Update\" to \"False\". Rotating electrical field is generated by time-varying magnetic flux, so let's see how dB/dt field propagate in time. Set \"Field\" to \"dBdt\", and \"AmpDir\" to \"Direction\". Move \"Time index\" slide bar, and observe how dB/dt propagate in time; while moving \"Time index\" go back and force to $E_y$ field. Note that you should change \"AmpDir\" to \"None\" to see $E_y$ field. Can you understand how dB/dt generates rotating electric field? (Faraday's Law)\n",
    "\n",
    "\n",
    "- Q4: With the same setup, just change \"Field\" to \"J\" to see $J_y$, what is the difference between $E_y$ and $J_y$? Why this difference is occured?\n",
    "\n",
    "\n",
    "- Q5: With the current density, magnetic flux density can be computed using Biot-Savart law. Go back and forth between $E_y$ and $\\mathbf{B}$ while you are moving \"Time index\". Do you understand how magnetic flux can be generated from currents? (Ampere's Law)"
   ]
  },
  {
   "cell_type": "markdown",
   "metadata": {},
   "source": [
    "# Fields app\n",
    "\n",
    "We use this app to simulate the fields and currents everywhere due to a transient VMD source. The fields and induced currents depend on time and the subsurface conductivity distribution. You will use the app to change various parameters in the model and see how the fields and currents change.\n",
    "\n",
    "## Parameters:\n",
    "\n",
    "- **Update:** If *True* is selected, the simulation is re-run as parameters are being changed. If *False* is selected, the simulation will not be re-fun as parameters are being changed.\n",
    "- **Field:** Type of EM fields (\"E\": electric field, \"B\": total magnetic flux density, \"dBdt\": time-derivative of the magnetic flux density, \"J\": current density and \"Model\": conductivity model)\n",
    "- **AmpDir:** If *None* is selected, then the *x*, *y* or *z* component chosen on the next line is plotted. If *Direction* is chosen, a vector plot is plotted (only possible for B and dB/dt)\n",
    "- **Comp.:** If *None* is selected on the previous line, the user chooses whether the *x*, *y* or *z* component is plotted.     \n",
    "- $\\boldsymbol{\\sigma_0}$: Conductivity above z=0m (leave as 1e-8) in S/m\n",
    "- $\\boldsymbol{\\sigma_b}$: Background conductivity below z = 0 m in S/m\n",
    "- $\\boldsymbol{\\sigma_1}$: Conductivity of the layer in S/m\n",
    "- $\\boldsymbol{\\sigma_2}$: Conductivity of the sphere in S/m\n",
    "- $\\boldsymbol{\\chi}$: Susceptibility below z = 0 m in SI\n",
    "- $\\boldsymbol{d_1}$: Depth to the top of the layer\n",
    "- $\\boldsymbol{h_1}$: Thickness of the layer\n",
    "- $\\boldsymbol{d_2}$: Depth to the centre of the sphere\n",
    "- $\\boldsymbol{R}$: Radius of the sphere\n",
    "- **Scale:** Plot data values on *log-scale* or *linear-scale*\n",
    "- $\\boldsymbol{\\Delta x}$ (m): Horizontal separation distance between the transmitter and receiver\n",
    "- $\\boldsymbol{\\Delta z}$ (m): Height of the transmitter and receiver above the Earth's surface\n",
    "- **Time index:** Time index for the set of frequencies models by this app"
   ]
  },
  {
   "cell_type": "code",
   "execution_count": 2,
   "metadata": {},
   "outputs": [
    {
     "data": {
      "application/vnd.jupyter.widget-view+json": {
       "model_id": "4b96370e80c445a999595f5c9518e1f5",
       "version_major": 2,
       "version_minor": 0
      },
      "text/plain": [
       "A Jupyter Widget"
      ]
     },
     "metadata": {},
     "output_type": "display_data"
    }
   ],
   "source": [
    "Q1 = APP.InteractivePlane_Sphere()\n",
    "display(Q1)"
   ]
  },
  {
   "cell_type": "markdown",
   "metadata": {},
   "source": [
    "# Data app\n",
    "\n",
    "Using this app, we show how the fields observed at the receiver location depend on the parameters set in the previous app. *Note that if you want to see changes in the data due to changes in the model, you MUST* re-run the previous app. \n",
    "\n",
    "## Parameters:\n",
    "\n",
    "- **Field:** Type of EM fields (\"E\": electric field, \"B\": magnetic flux density, \"dBdt\": time-derivative of the magnetic flux density)\n",
    "- **Comp.:** Direction of EM field at Rx locations        \n",
    "- **Scale:** Scale of y-axis values (\"log\" or \"linear\")"
   ]
  },
  {
   "cell_type": "code",
   "execution_count": 3,
   "metadata": {},
   "outputs": [
    {
     "data": {
      "application/vnd.jupyter.widget-view+json": {
       "model_id": "8cf3dbeb5c394956b3b4b40ee4841be5",
       "version_major": 2,
       "version_minor": 0
      },
      "text/plain": [
       "A Jupyter Widget"
      ]
     },
     "metadata": {},
     "output_type": "display_data"
    }
   ],
   "source": [
    "Q2 = APP.InteractiveData_Sphere()\n",
    "display(Q2)"
   ]
  },
  {
   "cell_type": "markdown",
   "metadata": {},
   "source": [
    "# Explore\n",
    "\n",
    "EM fields will be depenent upon a number of parameters, using a simple half-space model ($\\sigma_1=\\sigma_2=\\sigma_3$) explore how EM fields and data changes upon below four parameters. \n",
    "\n",
    "- E1: Effects of frequency?\n",
    "\n",
    "\n",
    "- E2: Effects of Tx height?\n",
    "\n",
    "\n",
    "- E3: Effects of Conductivity?\n",
    "\n",
    "\n",
    "- E4: Effects of Susceptibility?\n"
   ]
  },
  {
   "cell_type": "markdown",
   "metadata": {},
   "source": []
  },
  {
   "cell_type": "code",
   "execution_count": null,
   "metadata": {
    "collapsed": true
   },
   "outputs": [],
   "source": []
  }
 ],
 "metadata": {
  "anaconda-cloud": {},
  "kernelspec": {
   "display_name": "Python 3",
   "language": "python",
   "name": "python3"
  },
  "language_info": {
   "codemirror_mode": {
    "name": "ipython",
    "version": 3
   },
   "file_extension": ".py",
   "mimetype": "text/x-python",
   "name": "python",
   "nbconvert_exporter": "python",
   "pygments_lexer": "ipython3",
   "version": "3.6.3"
  },
  "widgets": {
   "state": {
    "c0dd4dbce2ff4d0cacf7363e6fdfed13": {
     "views": [
      {
       "cell_index": 6
      }
     ]
    },
    "d6ee822b25404d33979ba6ec5f19963c": {
     "views": [
      {
       "cell_index": 8
      }
     ]
    }
   },
   "version": "1.2.0"
  }
 },
 "nbformat": 4,
 "nbformat_minor": 1
}
