{
 "cells": [
  {
   "cell_type": "markdown",
   "metadata": {},
   "source": [
    "# Vertical Magnetic Dipole over a Layered Earth (frequency domain)"
   ]
  },
  {
   "cell_type": "code",
   "execution_count": 1,
   "metadata": {},
   "outputs": [
    {
     "name": "stdout",
     "output_type": "stream",
     "text": [
      "Populating the interactive namespace from numpy and matplotlib\n"
     ]
    }
   ],
   "source": [
    "%pylab inline\n",
    "from IPython.display import display\n",
    "from em_examples.HarmonicVMDCylWidget import HarmonicVMDCylWidget\n",
    "vmd = HarmonicVMDCylWidget()"
   ]
  },
  {
   "cell_type": "markdown",
   "metadata": {},
   "source": [
    "# Introduction\n",
    "\n",
    "Here, we show fields and fluxes that result from placing a harmonic vertical magnetic dipole (VMD) source over a layered Earth. \n",
    "\n",
    "There are [two commonly used models](https://em.geosci.xyz/content/maxwell1_fundamentals/dipole_sources_in_homogeneous_media/magnetic_dipole_definition/index.html) for describing a harmonic VMD source: 1) as an infinitessimally small bar magnet that experiences a harmonic magnetization in the vertical direction, and 2) as an infinitessimally small horizontal loop of wire carrying a harmonic current. In either case, the harmonic VMD creates a primary harmonic magnetic field in its viscinity; which is vertical at the location of the source.\n",
    "\n",
    "True dipole sources do not exist in nature however they can be approximated in practice. For geophysical applications, small wire loops carrying harmonic current are used to approximate harmonic VMD sources. These EM sources may be placed on the Earth's surface (ground-based surveys) or flown through the air (airborne surveys). Because the source's primary field is harmonic, it induces anomalous currents in the Earth. The distribution and strength of the induced currents depends on the frequency of the harmonic VMD source and the subsurface conductivity distribution. The induced current ultimately produce secondary magnetic fields which can be measured by one or more receivers.\n",
    "\n",
    "In this app, we explore the following:\n",
    "\n",
    "- How does the frequency impact the fields and currents produced by the harmonic VMD source?\n",
    "- For a layered Earth, how does changing layer thickness and conductivity impact the fields and currents produced by the harmonic VMD source?\n",
    "- How does the frequency impact secondary fields measured above the Earth's surface?\n",
    "- For a layered Earth, how does changing layer thickness and conductivity impact secondary fields measured above the Earth's surface?"
   ]
  },
  {
   "cell_type": "markdown",
   "metadata": {},
   "source": [
    "# Setup\n",
    "\n",
    "The geological scenario being modeled is shown in the figure below. Here, we assume the Earth is comprised of 3 layers. Each layer can have a different electrical conductivity ($\\sigma$). However, a constant magnetic susceptibility ($\\chi$) is used for all layers; where $\\mu_0$ is the magnetic permeability of free space and $\\mu = \\mu_0 (1 +\\chi)$. The thicknesses of the top two layers are given by $h_1$ and $h_2$, respectively.\n",
    "\n",
    "In this case, a harmonic VMD source (*Tx*) is used to excite the Earth, and the vertical component of the Earth's EM response (secondary magnetic field) is measured by a receiver (*Rx*). In practice, the transmitter and receiver may be placed near the Earth's surface or in the air. The source may also operate at a variety of frequencies. Because we are operating in the frequency domain, fields and currents within the region have both real and imaginary components.\n",
    "\n",
    "To understand the fields and currents resulting from a harmonic VMD source over a layered Earth we have two apps:\n",
    "\n",
    "- **Fields app:** Models the fields and currents everywhere at a particular frequency\n",
    "- **Data app:** Models the secondary magnetic field observed at the receiver as a function of frequency\n",
    "\n",
    "\n",
    "<img src=\"https://github.com/geoscixyz/em_apps/blob/master/images/LayeredEarthFEM.png?raw=true\"></img>\n"
   ]
  },
  {
   "cell_type": "markdown",
   "metadata": {},
   "source": [
    "# Exercise\n",
    "\n",
    "- **Q1:** Based on the geometry of the problem, which components (x, y, z) of each field (E, B, Bsec or J) are zero? Run the *Fields app* and set *AmpDir = None*. Next, try different combinations of *Field* and *Comp*. Does the simulation match what you initially thought?\n",
    "\n",
    "\n",
    "- **Q2:** Re-run the *Fields app* to set parameters back to default. Set *Field = E*, *AmpDir = None* and *Comp = y* to plot Ey. Are there significant electric fields in the air and in the Earth? Now set *Field = J*? Are there significant currents in the air and Earth? Why is this?\n",
    "\n",
    "\n",
    "- **Q3:** Now slowly increate the frequency (*f index* slider). What happens to the distribution of currents (Jy) in the ground? Why do you think this happens? *Hint: think about the penetration depth of the primary signal.*\n",
    "\n",
    "\n",
    "- **Q4:** Set *f index = 16* (1000 Hz) and continue to image Jy.\n",
    "\n",
    "\n",
    "\n",
    "\n",
    "\n",
    "\n",
    "\n",
    "\n",
    "\n",
    "\n",
    "Next, change the *Re/Im* setting from *Re* to *Im*. What are the differences between the real and imaginary components of the total B-field? \n",
    "\n",
    "\n",
    "- **Q3:** Now change parameters: \"Field\" to \"E\", \"AmpDir\" to \"None\", \"Comp\" to \"y\". Then alter Complex number from \"Real\" to \"Imag\". Did you recognize the difference between real and imaginary part of $E_y$? Can you explain the difference between them?\n",
    "\n",
    "\n",
    "- **Q4:** Change the \"Field\" to \"J\". What did you observe? Assuming the type of the measured data is $B_z$, what can you infer from your observation of \"current density?\n",
    "\n",
    "\n",
    "- **Q5:** Run data app, and observe the measured $B_z$ component at Rx location (marked as red dot in the Field app). Real part almost does not change as a function of frequency. a) Explain the reason why. \n",
    "\n",
    "\n",
    "- **Q6:** Then change \"Field\" to \"Bsec\" indicating secondary magnetic flux density. What did you observe? Often for inductive source EM surveys such as airborne EM and small-loop EM this secondary magnetic flux density is considered as our <strong> observed data </strong>, check EM geosci and solidify this concept of primary removal. "
   ]
  },
  {
   "cell_type": "markdown",
   "metadata": {},
   "source": [
    "# Fields app\n",
    "\n",
    "We use this app to simulate the fields and currents everywhere due to a harmonic VMD source. The fields and induced currents depend on the frequency of the harmonic VMD source and the subsurface conductivity distribution. You will use the app to change various parameters in the model and see how the fields and currents change.\n",
    "\n",
    "## Parameters:\n",
    "\n",
    "- **Field:** Type of EM fields (\"E\": electric field, \"B\": total magnetic flux density, \"Bsec\": secondary magnetic flux density, \"J\": current density and \"Model\": conductivity model)\n",
    "- **AmpDir:** If *None* is selected, then the *x*, *y* or *z* component chosen on the next line is plotted. If *Direction* is chosen, a vector plot is plotted (only possible for B and Bsec)\n",
    "- **Comp.:** If *None* is selected on the previous line, the user chooses whether the *x*, *y* or *z* component is plotted.     \n",
    "- **Re/Im:** Type of complex data (\"Re\", \"Im\", \"Amp\", \"Phase\")    \n",
    "- $\\boldsymbol{\\sigma_0}$: Conductivity of 0th layer in S/m\n",
    "- $\\boldsymbol{\\sigma_1}$: Conductivity of 1st layer in S/m\n",
    "- $\\boldsymbol{\\sigma_2}$: Conductivity of 2nd layer in S/m\n",
    "- $\\boldsymbol{\\sigma_3}$: Conductivity of 3rd layer in S/m\n",
    "- $\\boldsymbol{\\chi}$: Susceptibility of 1-3 layers in SI\n",
    "- $\\boldsymbol{h_1}$: Thickness of the first layer in metres\n",
    "- $\\boldsymbol{h_2}$: Thickness of the second layer in metres\n",
    "- **Scale:** Plot data values on *log-scale* or *linear-scale*\n",
    "- $\\boldsymbol{\\Delta x}$ (m): Horizontal separation distance between the transmitter and receiver\n",
    "- $\\boldsymbol{\\Delta z}$ (m): Height of the transmitter and receiver above the Earth's surface\n",
    "- **f index:** Frequency index for the set of frequencies models by this app"
   ]
  },
  {
   "cell_type": "code",
   "execution_count": 5,
   "metadata": {},
   "outputs": [
    {
     "data": {
      "application/vnd.jupyter.widget-view+json": {
       "model_id": "30f2844887104ec2a6803857e4562375",
       "version_major": 2,
       "version_minor": 0
      },
      "text/plain": [
       "A Jupyter Widget"
      ]
     },
     "metadata": {},
     "output_type": "display_data"
    }
   ],
   "source": [
    "Q1 = vmd.InteractivePlane_Layer()\n",
    "display(Q1)"
   ]
  },
  {
   "cell_type": "markdown",
   "metadata": {},
   "source": [
    "# Data app\n",
    "\n",
    "Using this app, we show how the fields observed at the receiver location depend on the parameters set in the previous app. *Note that if you want to see changes in the data due to changes in the model, you MUST* re-run the previous app. \n",
    "\n",
    "## Parameters:\n",
    "\n",
    "- **Field:** Type of EM fields (\"E\": electric field, \"B\": total magnetic flux density, \"Bsec\": secondary magnetic flux density)\n",
    "- **Comp.:** Direction of EM field at Rx locations        \n",
    "- **Scale:** Scale of values (\"log\" or \"linear\")"
   ]
  },
  {
   "cell_type": "code",
   "execution_count": 3,
   "metadata": {},
   "outputs": [
    {
     "data": {
      "application/vnd.jupyter.widget-view+json": {
       "model_id": "83f63c7fb1074d23bfa2ecb494bc579c",
       "version_major": 2,
       "version_minor": 0
      },
      "text/plain": [
       "A Jupyter Widget"
      ]
     },
     "metadata": {},
     "output_type": "display_data"
    }
   ],
   "source": [
    "Q2 = vmd.InteractiveData_Layer()\n",
    "display(Q2)"
   ]
  },
  {
   "cell_type": "code",
   "execution_count": null,
   "metadata": {
    "collapsed": true
   },
   "outputs": [],
   "source": []
  },
  {
   "cell_type": "markdown",
   "metadata": {},
   "source": [
    "# Explore\n",
    "\n",
    "EM fields will be depenent upon a number of parameters, using a simple half-space model ($\\sigma_1=\\sigma_2=\\sigma_3$) explore how EM fields and data changes upon below four parameters. \n",
    "\n",
    "- E1: Effects of frequency?\n",
    "\n",
    "\n",
    "- E2: Effects of Tx height?\n",
    "\n",
    "\n",
    "- E3: Effects of Conductivity?\n",
    "\n",
    "\n",
    "- E4: Effects of Susceptibility?\n"
   ]
  },
  {
   "cell_type": "code",
   "execution_count": null,
   "metadata": {
    "collapsed": true
   },
   "outputs": [],
   "source": []
  }
 ],
 "metadata": {
  "anaconda-cloud": {},
  "kernelspec": {
   "display_name": "Python 3",
   "language": "python",
   "name": "python3"
  },
  "language_info": {
   "codemirror_mode": {
    "name": "ipython",
    "version": 3
   },
   "file_extension": ".py",
   "mimetype": "text/x-python",
   "name": "python",
   "nbconvert_exporter": "python",
   "pygments_lexer": "ipython3",
   "version": "3.6.3"
  },
  "widgets": {
   "state": {
    "c0dd4dbce2ff4d0cacf7363e6fdfed13": {
     "views": [
      {
       "cell_index": 6
      }
     ]
    },
    "d6ee822b25404d33979ba6ec5f19963c": {
     "views": [
      {
       "cell_index": 8
      }
     ]
    }
   },
   "version": "1.2.0"
  }
 },
 "nbformat": 4,
 "nbformat_minor": 1
}
