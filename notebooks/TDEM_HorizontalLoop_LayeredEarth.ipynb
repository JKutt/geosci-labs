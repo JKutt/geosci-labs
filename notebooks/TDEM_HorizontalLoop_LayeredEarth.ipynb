{
 "cells": [
  {
   "cell_type": "markdown",
   "metadata": {},
   "source": [
    "# Horizontal Current Loop over a Layered Earth (time domain)"
   ]
  },
  {
   "cell_type": "code",
   "execution_count": 1,
   "metadata": {},
   "outputs": [
    {
     "name": "stdout",
     "output_type": "stream",
     "text": [
      "Populating the interactive namespace from numpy and matplotlib\n"
     ]
    }
   ],
   "source": [
    "%pylab inline\n",
    "from IPython.display import display\n",
    "from em_examples.TDEMHorizontalLoopCylWidget import TDEMHorizontalLoopCylWidget\n",
    "APP = TDEMHorizontalLoopCylWidget()"
   ]
  },
  {
   "cell_type": "markdown",
   "metadata": {},
   "source": [
    "# Purpose and background theory\n",
    "\n",
    "Here, we show fields and fluxes that result from placing a transient vertical magnetic dipole (VMD) source over an Earth model containing a spherical structure and an overburden layer. \n",
    "\n",
    "There are [two commonly used models](https://em.geosci.xyz/content/maxwell1_fundamentals/dipole_sources_in_homogeneous_media/magnetic_dipole_time/index.html) for describing a transient VMD source: 1) as an infinitessimally small bar magnet that experiences a long-standing vertical magnetization which is then instantaneously removed, and 2) as an infinitessimally small horizontal loop of wire carrying a constant current which is then instantaneously shut off (step-off current waveform).\n",
    "\n",
    "For geophysical applications, we use small current loops to approximate transient VMD sources. These EM sources may be placed on the Earth's surface or flown through the air (airborne surveys). According to the Biot-Savart law, a primary magnetic field is produced whenever there is current in the loop. When the current is shut-off, the sudden change in magnetic flux induces anomalous currents in the Earth which propagate and diffuse over time. The distribution and strength of the induced currents depends on subsurface conductivity distribution and how much time has passed since the current in the VMD source was shut off. The induced current ultimately produce secondary magnetic fields which can be measured by a receiver.\n",
    "\n",
    "In this app, we explore the following:\n",
    "\n",
    "- How do the fields and currents produced by the transient VMD source change over time?\n",
    "- For a layered Earth, how does changing layer thickness and conductivity impact the fields and currents produced by the transient VMD source?\n",
    "- How do the secondary fields measured above the Earth's surface change over time?\n",
    "- For a layered Earth, how does changing layer thickness and conductivity impact secondary fields measured above the Earth's surface?"
   ]
  },
  {
   "cell_type": "markdown",
   "metadata": {},
   "source": [
    "# Set up\n",
    "\n",
    "The geological scenario being modeled is shown in the figure below. Here, we assume the Earth is comprised of 3 layers. Each layer can have a different electrical conductivity ($\\sigma$). However, a constant magnetic susceptibility ($\\chi$) is used for all layers; where $\\mu_0$ is the magnetic permeability of free space and $\\mu = \\mu_0 (1 +\\chi)$. The thicknesses of the top two layers are given by $h$.\n",
    "\n",
    "In this case, a transient VMD source (*Tx*) is used to excite the Earth, and the vertical component of the Earth's EM response (secondary magnetic field) is measured by a receiver (*Rx*). In practice, the transmitter and receiver may be placed near the Earth's surface or in the air. The receiver may also measure secondary fields at a variety of times after the source is shut off.\n",
    "\n",
    "To understand the fields and currents resulting from a transient VMD source we have two apps:\n",
    "\n",
    "- **Fields app:** Models the fields and currents everywhere at a particular time after shutoff\n",
    "- **Data app:** Models the secondary magnetic field observed by the receiver as a function of off-time\n",
    "\n",
    "\n",
    "<img src=\"https://github.com/geoscixyz/em_apps/blob/master/images/LayeredEarth.png?raw=true\"></img>\n"
   ]
  },
  {
   "cell_type": "markdown",
   "metadata": {},
   "source": [
    "# Questions\n",
    "\n",
    "- Q1: Run below Field app, and change \"Update\" to \"False\" to explore computed EM fields. Then move the slider bar for \"Time\" to see propagation of induced electric field in time (smoke ring). Describe the propagation of electric field in time. \n",
    "\n",
    "\n",
    "- Q2: Now we want to recognize how this EM propagation in half-space earth was different from that in homogeneous earth, so set $\\sigma_0$ to 0.01 S/m (making $\\sigma_0=\\sigma_1=\\sigma_2=\\sigma_3$ = 0.01 S/m). Note that you should make \"Update\" to \"True\" to update computed EM fields upon your changes, then make it \"False\" to explore. Observe propagation of $E_y$ field in time, what is the main difference? and why that is happening?\n",
    "\n",
    "\n",
    "- Q3: Back to the default half-space model, then similarly set \"Update\" to \"False\". Rotating electrical field is generated by time-varying magnetic flux, so let's see how dB/dt field propagate in time. Set \"Field\" to \"dBdt\", and \"AmpDir\" to \"Direction\". Move \"Time index\" slide bar, and observe how dB/dt propagate in time; while moving \"Time index\" go back and force to $E_y$ field. Note that you should change \"AmpDir\" to \"None\" to see $E_y$ field. Can you understand how dB/dt generates rotating electric field? (Faraday's Law)\n",
    "\n",
    "\n",
    "- Q4: With the same setup, just change \"Field\" to \"J\" to see $J_y$, what is the difference between $E_y$ and $J_y$? Why this difference is occured?\n",
    "\n",
    "\n",
    "- Q5: With the current density, magnetic flux density can be computed using Biot-Savart law. Go back and forth between $E_y$ and $\\mathbf{B}$ while you are moving \"Time index\". Do you understand how magnetic flux can be generated from currents? (Ampere's Law)"
   ]
  },
  {
   "cell_type": "markdown",
   "metadata": {},
   "source": [
    "# Fields app\n",
    "\n",
    "Here we explore EM fields due to a horizontal current loop source. We let an arbitrary EM fields as $\\mathbf{F}$, then this will be a function of various parameters given below. By using this <strong>Field app</strong>, you can change a parameter such as time, then can observe changes of EM fields immediately. Hence, this tool will allow you to explore how EM fields changes upon your changes in parameters. \n",
    "\n",
    "## Parameters:\n",
    "\n",
    "- Update: Run simulation when parameters are change (True). Do not run simulation while parameters are being changed (False)\n",
    "- Field: Type of EM fields (\"E\": electric field, \"B\": total magnetic flux density, \"dBdt\": time-derivative of the magnetic flux density, \"J\": current density)\n",
    "- AmpDir: Type of the vectoral EM fields \n",
    "\n",
    "    None: $F_x$ or $F_y$ or $F_z$\n",
    "        \n",
    "    Dir:  Vectoral EM fields (either Real or Imaginary)\n",
    "    \n",
    "- Comp.: Direction of $\\mathbf{F}$ at Rx locations          \n",
    "- Time index: The time channel at which fields are being plotted\n",
    "- $\\sigma_0$: Conductivity of 0th layer\n",
    "- $\\sigma_1$: Conductivity of 1st layer\n",
    "- $\\sigma_2$: Conductivity of 2nd layer\n",
    "- $\\sigma_3$: Conductivity of 3rd layer\n",
    "- $\\chi$: Susceptibility of 1-3 layers\n",
    "- $h_1$: Thickness of the first layer\n",
    "- $h_2$: Thickness of the second layer\n",
    "- Scale: Scale of values (\"log\" or \"linear\")\n",
    "- $\\Delta x$ (m): Horizontal separation distance between the transmitter and receiver\n",
    "- $\\Delta z$ (m): Height of the transmitter and receiver above the Earth's surface"
   ]
  },
  {
   "cell_type": "code",
   "execution_count": 2,
   "metadata": {},
   "outputs": [
    {
     "data": {
      "application/vnd.jupyter.widget-view+json": {
       "model_id": "b522ba3c0d354513a14a4ff37c97b70f",
       "version_major": 2,
       "version_minor": 0
      },
      "text/plain": [
       "A Jupyter Widget"
      ]
     },
     "metadata": {},
     "output_type": "display_data"
    }
   ],
   "source": [
    "Q1 = APP.InteractivePlane_Layer()\n",
    "display(Q1)"
   ]
  },
  {
   "cell_type": "markdown",
   "metadata": {},
   "source": [
    "# Data app\n",
    "\n",
    "In this app, will show the meausred data upon the parameters that you have used in the previous app. Note that if you want to see changes in the data due to updates of the parameters (such as $\\sigma$ and $\\chi$), then <strong>\"you should run the previous Field app first\"</strong>. \n",
    "\n",
    "## Parameters:\n",
    "\n",
    "- Field: Type of EM fields (\"E\": electric field, \"B\": total magnetic flux density, \"Bsec\": secondary magnetic flux density)\n",
    "- Comp.: Direction of EM field at Rx locations        \n",
    "- Scale: Scale of values (\"log\" or \"linear\")"
   ]
  },
  {
   "cell_type": "code",
   "execution_count": 3,
   "metadata": {},
   "outputs": [
    {
     "data": {
      "application/vnd.jupyter.widget-view+json": {
       "model_id": "657d6215366c4bc9ac3d00a7689b71b8",
       "version_major": 2,
       "version_minor": 0
      },
      "text/plain": [
       "A Jupyter Widget"
      ]
     },
     "metadata": {},
     "output_type": "display_data"
    }
   ],
   "source": [
    "Q2 = APP.InteractiveData_Layer()\n",
    "display(Q2)"
   ]
  },
  {
   "cell_type": "markdown",
   "metadata": {},
   "source": [
    "# Explore\n",
    "\n",
    "EM fields will be depenent upon a number of parameters, using a simple half-space model ($\\sigma_1=\\sigma_2=\\sigma_3$) explore how EM fields and data changes upon below four parameters. \n",
    "\n",
    "- E1: Effects of frequency?\n",
    "\n",
    "\n",
    "- E2: Effects of Tx height?\n",
    "\n",
    "\n",
    "- E3: Effects of Conductivity?\n",
    "\n",
    "\n",
    "- E4: Effects of Susceptibility?\n"
   ]
  },
  {
   "cell_type": "code",
   "execution_count": null,
   "metadata": {
    "collapsed": true
   },
   "outputs": [],
   "source": []
  }
 ],
 "metadata": {
  "anaconda-cloud": {},
  "kernelspec": {
   "display_name": "Python 3",
   "language": "python",
   "name": "python3"
  },
  "language_info": {
   "codemirror_mode": {
    "name": "ipython",
    "version": 3
   },
   "file_extension": ".py",
   "mimetype": "text/x-python",
   "name": "python",
   "nbconvert_exporter": "python",
   "pygments_lexer": "ipython3",
   "version": "3.6.3"
  },
  "widgets": {
   "state": {
    "c0dd4dbce2ff4d0cacf7363e6fdfed13": {
     "views": [
      {
       "cell_index": 6
      }
     ]
    },
    "d6ee822b25404d33979ba6ec5f19963c": {
     "views": [
      {
       "cell_index": 8
      }
     ]
    }
   },
   "version": "1.2.0"
  }
 },
 "nbformat": 4,
 "nbformat_minor": 1
}
