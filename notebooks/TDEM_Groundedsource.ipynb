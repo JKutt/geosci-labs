{
 "cells": [
  {
   "cell_type": "code",
   "execution_count": null,
   "metadata": {},
   "outputs": [],
   "source": [
    "from ipywidgets import interact, FloatSlider, IntSlider, ToggleButtons\n",
    "from em_examples.TDEMGroundedSource import *\n",
    "%pylab inline"
   ]
  },
  {
   "cell_type": "markdown",
   "metadata": {},
   "source": [
    "# Exploring fields from a grounded source"
   ]
  },
  {
   "cell_type": "code",
   "execution_count": null,
   "metadata": {},
   "outputs": [],
   "source": [
    "import matplotlib\n",
    "matplotlib.rcParams['font.size']=16\n",
    "\n",
    "known_names = [\n",
    "    'tdem_gs_half.h5',\n",
    "    'tdem_gs_conductor.h5',\n",
    "    'tdem_gs_resistor.h5'\n",
    "]\n",
    "options = load_or_run_results(\n",
    "    re_run=False, fname=known_names[0]\n",
    ")\n",
    "tdem = PlotTDEM(**options)"
   ]
  },
  {
   "cell_type": "code",
   "execution_count": null,
   "metadata": {
    "scrolled": false
   },
   "outputs": [],
   "source": [
    "interact(\n",
    "    tdem.show_3d_survey_geometry, \n",
    "    elev=FloatSlider(min=-180, max=180, step=10, value=30),\n",
    "    azim=FloatSlider(min=-180, max=180, step=10, value=-45),\n",
    ")\n"
   ]
  },
  {
   "cell_type": "code",
   "execution_count": null,
   "metadata": {},
   "outputs": [],
   "source": [
    "interact(\n",
    "    tdem.plot_input_currents, \n",
    "    itime=IntSlider(min=15, max=50, step=1, value=15, contiusous_update=False),\n",
    "    scale=ToggleButtons(\n",
    "        options=[\"linear\", \"log\"], value=\"linear\"\n",
    "    ),\n",
    "    \n",
    ")"
   ]
  },
  {
   "cell_type": "code",
   "execution_count": null,
   "metadata": {},
   "outputs": [],
   "source": [
    "interact(\n",
    "    tdem.plot_electric_currents, \n",
    "    itime=IntSlider(min=15, max=50, step=1, value=15, contiusous_update=False)\n",
    ")"
   ]
  },
  {
   "cell_type": "code",
   "execution_count": null,
   "metadata": {},
   "outputs": [],
   "source": [
    "interact(\n",
    "    tdem.plot_magnetic_flux, \n",
    "    itime=IntSlider(min=15, max=50, step=1, value=15, contiusous_update=False)\n",
    ")"
   ]
  }
 ],
 "metadata": {
  "anaconda-cloud": {},
  "kernelspec": {
   "display_name": "Python 3",
   "language": "python",
   "name": "python3"
  },
  "language_info": {
   "codemirror_mode": {
    "name": "ipython",
    "version": 3
   },
   "file_extension": ".py",
   "mimetype": "text/x-python",
   "name": "python",
   "nbconvert_exporter": "python",
   "pygments_lexer": "ipython3",
   "version": "3.6.5"
  }
 },
 "nbformat": 4,
 "nbformat_minor": 1
}
